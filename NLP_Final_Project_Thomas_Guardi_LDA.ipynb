{
 "cells": [
  {
   "cell_type": "markdown",
   "metadata": {
    "id": "CHFjhlLcAc-V"
   },
   "source": [
    "# NLP Final Project - Thomas Guardi\n",
    "\n",
    "__Illinois is famous for being one of the very few states in the country with negative population growth.  The objective of your final project is to:__\n",
    "\n",
    "1. Identify the key reasons for the declining population by extracting meaningful insights from unstructured text\n",
    "\n",
    "2. Provide actionable recommendations on what can be done to reverse this trend"
   ]
  },
  {
   "cell_type": "markdown",
   "metadata": {
    "id": "onFtURX4GQsZ"
   },
   "source": [
    "## **Main Goals**\n",
    "\n",
    "Clean-up the noise (eliminate articles irrelevant to the analysis)\n",
    "Detect major topics\n",
    "\n",
    "Identify top reasons for population decline (negative sentiment)\n",
    "Suggest corrective actions\n",
    "\n",
    "Demonstrate how the city / state can attract new businesses (positive sentiment)\n",
    "\n",
    "Leverage appropriate NLP techniques to identify organizations and people and apply targeted sentiment\n",
    "\n",
    "Why businesses should stay in IL or move into IL?\n",
    "\n",
    "Create appropriate visualization to summarize your recommendations (i.e. word cloud chart or bubble chart)\n",
    "\n",
    "Why residents should stay in IL or move into IL?\n",
    "\n",
    "Create appropriate visualization to summarize your recommendations (i.e. word cloud chart or bubble chart)\n",
    "\n",
    "\n",
    "### **Additional Guidance**\n",
    "\n",
    "Default sentiment will likely be wrong from any software package and will require significant tweaking\n",
    "\n",
    "Either keyword / dictionary approach or\n",
    "\n",
    "Labeling and classification\n",
    "\n",
    "You are encouraged to explore a combination several techniques to identify key topics:\n",
    "\n",
    "Topic modeling (i.e. LSA, LDA and TF-IDF)\n",
    "\n",
    "Classification (hand-label several topics on a sample and then train classifier)\n",
    "\n",
    "Clustering (cluster topics around pre-selected keywords or word vectors)\n",
    "\n",
    "#### **Powerpoint Guidelines**\n",
    "Please limit your work to 7 PowerPoint slides. \n",
    "On your slides you will want to provide:\n",
    "\n",
    "Executive Summary\n",
    "\n",
    "Methodology and source data overview\n",
    "\n",
    "Actionable recommendations\n",
    "\n",
    "Please submit your actual program codes (i.e. Python Notebook) along with your PowerPoint – as a separate attachment\n",
    "\n",
    "Your presentation should be targeted toward business audience and must not contain any code snippets\n",
    "\n",
    "You are welcome to use any software packages of your choice to complete the assignment\n",
    " "
   ]
  },
  {
   "cell_type": "code",
   "execution_count": 1,
   "metadata": {},
   "outputs": [
    {
     "name": "stdout",
     "output_type": "stream",
     "text": [
      "2\n"
     ]
    }
   ],
   "source": [
    "from multiprocessing import cpu_count\n",
    "print(cpu_count())"
   ]
  },
  {
   "cell_type": "code",
   "execution_count": 1,
   "metadata": {
    "colab": {
     "base_uri": "https://localhost:8080/"
    },
    "executionInfo": {
     "elapsed": 2692,
     "status": "ok",
     "timestamp": 1605840485595,
     "user": {
      "displayName": "Thomas Guardi",
      "photoUrl": "https://lh5.googleusercontent.com/-3rOaJWIrsE4/AAAAAAAAAAI/AAAAAAAABNk/XnS1A0esyfQ/s64/photo.jpg",
      "userId": "05737028050447734070"
     },
     "user_tz": 360
    },
    "id": "OHDA6HtFRWGG",
    "outputId": "1f14a811-ac50-4d30-c001-daac658e29fc"
   },
   "outputs": [],
   "source": [
    "# pip install list\n",
    "# !pip install pyLDAvis"
   ]
  },
  {
   "cell_type": "code",
   "execution_count": 2,
   "metadata": {
    "executionInfo": {
     "elapsed": 4231,
     "status": "ok",
     "timestamp": 1605840487142,
     "user": {
      "displayName": "Thomas Guardi",
      "photoUrl": "https://lh5.googleusercontent.com/-3rOaJWIrsE4/AAAAAAAAAAI/AAAAAAAABNk/XnS1A0esyfQ/s64/photo.jpg",
      "userId": "05737028050447734070"
     },
     "user_tz": 360
    },
    "id": "prGy5p1OAc-W"
   },
   "outputs": [],
   "source": [
    "# always these guys\n",
    "import numpy as np\n",
    "import pandas as pd\n",
    "# for reading in the json\n",
    "import json\n",
    "# because you're gonna need to do regex\n",
    "import re\n",
    "import nltk as nltk\n",
    "import matplotlib.pyplot as plt\n",
    "import pickle\n",
    "from collections import Counter\n",
    "from nltk.corpus import stopwords\n",
    "from nltk.stem.wordnet import WordNetLemmatizer\n",
    "import string\n",
    "\n",
    "import warnings\n",
    "warnings.simplefilter('ignore')"
   ]
  },
  {
   "cell_type": "code",
   "execution_count": 3,
   "metadata": {
    "colab": {
     "base_uri": "https://localhost:8080/"
    },
    "executionInfo": {
     "elapsed": 4226,
     "status": "ok",
     "timestamp": 1605840487144,
     "user": {
      "displayName": "Thomas Guardi",
      "photoUrl": "https://lh5.googleusercontent.com/-3rOaJWIrsE4/AAAAAAAAAAI/AAAAAAAABNk/XnS1A0esyfQ/s64/photo.jpg",
      "userId": "05737028050447734070"
     },
     "user_tz": 360
    },
    "id": "S2427El4ArGG",
    "outputId": "c80db64d-eea3-4650-fdfd-7916657b95a2"
   },
   "outputs": [],
   "source": [
    "# from google.colab import drive\n",
    "# drive.mount('/content/drive')"
   ]
  },
  {
   "cell_type": "code",
   "execution_count": 4,
   "metadata": {},
   "outputs": [
    {
     "data": {
      "text/plain": [
       "'/home/tguardi/Classes/NLP/Final_Project'"
      ]
     },
     "execution_count": 4,
     "metadata": {},
     "output_type": "execute_result"
    }
   ],
   "source": [
    "pwd"
   ]
  },
  {
   "cell_type": "code",
   "execution_count": 5,
   "metadata": {
    "id": "h01283oEltdF"
   },
   "outputs": [],
   "source": [
    "# Colab path\n",
    "# path = /content/drive/MyDrive/\n",
    "# local path\n",
    "path = '/home/tguardi/Classes/NLP/Final_Project/news_chicago_il.json'\n",
    "# rcc path\n",
    "# directory = '/project2/msca/kadochnikov/news/'\n",
    "# file = 'news_chicago_il.json'\n",
    "# path = directory + file"
   ]
  },
  {
   "cell_type": "code",
   "execution_count": 5,
   "metadata": {
    "executionInfo": {
     "elapsed": 29903,
     "status": "ok",
     "timestamp": 1605840512827,
     "user": {
      "displayName": "Thomas Guardi",
      "photoUrl": "https://lh5.googleusercontent.com/-3rOaJWIrsE4/AAAAAAAAAAI/AAAAAAAABNk/XnS1A0esyfQ/s64/photo.jpg",
      "userId": "05737028050447734070"
     },
     "user_tz": 360
    },
    "id": "8wj2II8VAc-W",
    "scrolled": false
   },
   "outputs": [],
   "source": [
    "articles = []\n",
    "for line in open(path,'r'):\n",
    "    articles.append(json.loads(line))"
   ]
  },
  {
   "cell_type": "code",
   "execution_count": 7,
   "metadata": {
    "executionInfo": {
     "elapsed": 30368,
     "status": "ok",
     "timestamp": 1605840513296,
     "user": {
      "displayName": "Thomas Guardi",
      "photoUrl": "https://lh5.googleusercontent.com/-3rOaJWIrsE4/AAAAAAAAAAI/AAAAAAAABNk/XnS1A0esyfQ/s64/photo.jpg",
      "userId": "05737028050447734070"
     },
     "user_tz": 360
    },
    "id": "Ey4rQYMwAc-W"
   },
   "outputs": [
    {
     "data": {
      "text/plain": [
       "(371788, 4)"
      ]
     },
     "execution_count": 7,
     "metadata": {},
     "output_type": "execute_result"
    }
   ],
   "source": [
    "df = pd.DataFrame.from_dict(articles,orient='columns')\n",
    "df.shape"
   ]
  },
  {
   "cell_type": "code",
   "execution_count": 8,
   "metadata": {
    "colab": {
     "base_uri": "https://localhost:8080/",
     "height": 198
    },
    "executionInfo": {
     "elapsed": 30538,
     "status": "ok",
     "timestamp": 1605840513472,
     "user": {
      "displayName": "Thomas Guardi",
      "photoUrl": "https://lh5.googleusercontent.com/-3rOaJWIrsE4/AAAAAAAAAAI/AAAAAAAABNk/XnS1A0esyfQ/s64/photo.jpg",
      "userId": "05737028050447734070"
     },
     "user_tz": 360
    },
    "id": "sg6NalZBAc-W",
    "outputId": "d14a1a29-b8cb-4d5c-c65a-ade79f9bffd7"
   },
   "outputs": [
    {
     "data": {
      "text/html": [
       "<div>\n",
       "<style scoped>\n",
       "    .dataframe tbody tr th:only-of-type {\n",
       "        vertical-align: middle;\n",
       "    }\n",
       "\n",
       "    .dataframe tbody tr th {\n",
       "        vertical-align: top;\n",
       "    }\n",
       "\n",
       "    .dataframe thead th {\n",
       "        text-align: right;\n",
       "    }\n",
       "</style>\n",
       "<table border=\"1\" class=\"dataframe\">\n",
       "  <thead>\n",
       "    <tr style=\"text-align: right;\">\n",
       "      <th></th>\n",
       "      <th>crawled_date</th>\n",
       "      <th>language</th>\n",
       "      <th>text</th>\n",
       "      <th>title</th>\n",
       "    </tr>\n",
       "  </thead>\n",
       "  <tbody>\n",
       "    <tr>\n",
       "      <th>0</th>\n",
       "      <td>1589155200000</td>\n",
       "      <td>english</td>\n",
       "      <td>\\nGov. Jay “Fatso” Pritzker called on all Illi...</td>\n",
       "      <td>All In Illinois</td>\n",
       "    </tr>\n",
       "    <tr>\n",
       "      <th>1</th>\n",
       "      <td>1589155200000</td>\n",
       "      <td>english</td>\n",
       "      <td>May 10, 2020 -The Illinois Department of Publi...</td>\n",
       "      <td>The Illinois Department of Public Health Annou...</td>\n",
       "    </tr>\n",
       "    <tr>\n",
       "      <th>2</th>\n",
       "      <td>1589155200000</td>\n",
       "      <td>english</td>\n",
       "      <td>Gloria Lawrence said: May 10, 2020 at 1:31 AM\\...</td>\n",
       "      <td>Foto Friday: Alton, Illinois</td>\n",
       "    </tr>\n",
       "    <tr>\n",
       "      <th>3</th>\n",
       "      <td>1589155200000</td>\n",
       "      <td>english</td>\n",
       "      <td>NBA to follow German soccer league model with ...</td>\n",
       "      <td>Chris Broussard on Michael Jordan returning to...</td>\n",
       "    </tr>\n",
       "    <tr>\n",
       "      <th>4</th>\n",
       "      <td>1589155200000</td>\n",
       "      <td>english</td>\n",
       "      <td>Search Minggu, 10 Mei 2020 Pork chops vs. peop...</td>\n",
       "      <td>Pork chops vs. people: Can Americans’ appetite...</td>\n",
       "    </tr>\n",
       "  </tbody>\n",
       "</table>\n",
       "</div>"
      ],
      "text/plain": [
       "    crawled_date language                                               text  \\\n",
       "0  1589155200000  english  \\nGov. Jay “Fatso” Pritzker called on all Illi...   \n",
       "1  1589155200000  english  May 10, 2020 -The Illinois Department of Publi...   \n",
       "2  1589155200000  english  Gloria Lawrence said: May 10, 2020 at 1:31 AM\\...   \n",
       "3  1589155200000  english  NBA to follow German soccer league model with ...   \n",
       "4  1589155200000  english  Search Minggu, 10 Mei 2020 Pork chops vs. peop...   \n",
       "\n",
       "                                               title  \n",
       "0                                    All In Illinois  \n",
       "1  The Illinois Department of Public Health Annou...  \n",
       "2                       Foto Friday: Alton, Illinois  \n",
       "3  Chris Broussard on Michael Jordan returning to...  \n",
       "4  Pork chops vs. people: Can Americans’ appetite...  "
      ]
     },
     "execution_count": 8,
     "metadata": {},
     "output_type": "execute_result"
    }
   ],
   "source": [
    "df.head(5)"
   ]
  },
  {
   "cell_type": "markdown",
   "metadata": {
    "id": "3cG64zXrSifT"
   },
   "source": [
    "# Text Cleaning\n",
    "\n",
    "- All articles in English"
   ]
  },
  {
   "cell_type": "code",
   "execution_count": 9,
   "metadata": {
    "executionInfo": {
     "elapsed": 32696,
     "status": "ok",
     "timestamp": 1605840515636,
     "user": {
      "displayName": "Thomas Guardi",
      "photoUrl": "https://lh5.googleusercontent.com/-3rOaJWIrsE4/AAAAAAAAAAI/AAAAAAAABNk/XnS1A0esyfQ/s64/photo.jpg",
      "userId": "05737028050447734070"
     },
     "user_tz": 360
    },
    "id": "VLn__WUbSjU6"
   },
   "outputs": [
    {
     "name": "stdout",
     "output_type": "stream",
     "text": [
      "CPU times: user 2.61 s, sys: 1.81 s, total: 4.42 s\n",
      "Wall time: 4.42 s\n"
     ]
    }
   ],
   "source": [
    "%time df['text_clean'] = df['text'].map(lambda x: re.sub(r'\\n', '.  ', str(x)))"
   ]
  },
  {
   "cell_type": "markdown",
   "metadata": {
    "id": "IjJZvpe8SGOs"
   },
   "source": [
    "# **LDA**"
   ]
  },
  {
   "cell_type": "code",
   "execution_count": 10,
   "metadata": {
    "executionInfo": {
     "elapsed": 33940,
     "status": "ok",
     "timestamp": 1605840516885,
     "user": {
      "displayName": "Thomas Guardi",
      "photoUrl": "https://lh5.googleusercontent.com/-3rOaJWIrsE4/AAAAAAAAAAI/AAAAAAAABNk/XnS1A0esyfQ/s64/photo.jpg",
      "userId": "05737028050447734070"
     },
     "user_tz": 360
    },
    "id": "K6r4zV8tFLb8"
   },
   "outputs": [],
   "source": [
    "import gensim\n",
    "from gensim import corpora, models\n",
    "from gensim.models.ldamulticore import LdaMulticore\n",
    "import pyLDAvis.gensim"
   ]
  },
  {
   "cell_type": "code",
   "execution_count": 11,
   "metadata": {},
   "outputs": [],
   "source": [
    "# with open('doc_clean.pkl', 'rb') as f:\n",
    "#     doc_clean = pickle.load(f)"
   ]
  },
  {
   "cell_type": "code",
   "execution_count": 1,
   "metadata": {},
   "outputs": [],
   "source": [
    "import joblib"
   ]
  },
  {
   "cell_type": "code",
   "execution_count": 2,
   "metadata": {},
   "outputs": [],
   "source": [
    "dictionary = joblib.load('dict_doc.jl')"
   ]
  },
  {
   "cell_type": "code",
   "execution_count": null,
   "metadata": {},
   "outputs": [],
   "source": [
    "doc_term_matrix = joblib.load('doc_term_mx.jl')"
   ]
  },
  {
   "cell_type": "code",
   "execution_count": null,
   "metadata": {},
   "outputs": [],
   "source": [
    "numtopics = 10\n",
    "%time ldamodel = LdaMulticore(doc_term_matrix, num_topics=numtopics, id2word = dictionary, passes=50)\n",
    "print(*ldamodel.print_topics(num_topics=5, num_words=3), sep='\\n')"
   ]
  },
  {
   "cell_type": "code",
   "execution_count": null,
   "metadata": {},
   "outputs": [],
   "source": []
  },
  {
   "cell_type": "code",
   "execution_count": null,
   "metadata": {},
   "outputs": [],
   "source": []
  }
 ],
 "metadata": {
  "accelerator": "GPU",
  "colab": {
   "collapsed_sections": [],
   "name": "NLP_Final_Project_Thomas_Guardi.ipynb",
   "provenance": [],
   "toc_visible": true
  },
  "kernelspec": {
   "display_name": "Python 3",
   "language": "python",
   "name": "python3"
  },
  "language_info": {
   "codemirror_mode": {
    "name": "ipython",
    "version": 3
   },
   "file_extension": ".py",
   "mimetype": "text/x-python",
   "name": "python",
   "nbconvert_exporter": "python",
   "pygments_lexer": "ipython3",
   "version": "3.7.6"
  }
 },
 "nbformat": 4,
 "nbformat_minor": 1
}

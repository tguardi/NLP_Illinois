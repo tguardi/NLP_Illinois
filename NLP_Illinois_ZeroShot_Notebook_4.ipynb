{
 "cells": [
  {
   "cell_type": "markdown",
   "metadata": {
    "id": "gri9xS3P7tTz"
   },
   "source": [
    "### NLP Final Project - Thomas Guardi\n",
    "\n",
    "## Notebook 4"
   ]
  },
  {
   "cell_type": "code",
   "execution_count": 1,
   "metadata": {
    "id": "CeiCXCASVNnT"
   },
   "outputs": [
    {
     "name": "stdout",
     "output_type": "stream",
     "text": [
      "Collecting transformers\n",
      "  Downloading transformers-4.4.2-py3-none-any.whl (2.0 MB)\n",
      "\u001b[K     |████████████████████████████████| 2.0 MB 9.7 MB/s eta 0:00:01\n",
      "\u001b[?25hCollecting tokenizers<0.11,>=0.10.1\n",
      "  Downloading tokenizers-0.10.1-cp38-cp38-macosx_10_11_x86_64.whl (2.2 MB)\n",
      "\u001b[K     |████████████████████████████████| 2.2 MB 137.5 MB/s eta 0:00:01\n",
      "\u001b[?25hCollecting regex!=2019.12.17\n",
      "  Downloading regex-2021.3.17-cp38-cp38-macosx_10_9_x86_64.whl (284 kB)\n",
      "\u001b[K     |████████████████████████████████| 284 kB 52.3 MB/s eta 0:00:01\n",
      "\u001b[?25hCollecting filelock\n",
      "  Downloading filelock-3.0.12-py3-none-any.whl (7.6 kB)\n",
      "Requirement already satisfied: numpy>=1.17 in /Users/guardi/opt/miniconda3/lib/python3.8/site-packages (from transformers) (1.19.5)\n",
      "Collecting sacremoses\n",
      "  Downloading sacremoses-0.0.43.tar.gz (883 kB)\n",
      "\u001b[K     |████████████████████████████████| 883 kB 17.7 MB/s eta 0:00:01\n",
      "\u001b[?25hRequirement already satisfied: tqdm>=4.27 in /Users/guardi/opt/miniconda3/lib/python3.8/site-packages (from transformers) (4.51.0)\n",
      "Requirement already satisfied: requests in /Users/guardi/opt/miniconda3/lib/python3.8/site-packages (from transformers) (2.24.0)\n",
      "Requirement already satisfied: packaging in /Users/guardi/opt/miniconda3/lib/python3.8/site-packages (from transformers) (20.9)\n",
      "Requirement already satisfied: six in /Users/guardi/opt/miniconda3/lib/python3.8/site-packages (from sacremoses->transformers) (1.15.0)\n",
      "Collecting click\n",
      "  Using cached click-7.1.2-py2.py3-none-any.whl (82 kB)\n",
      "Requirement already satisfied: joblib in /Users/guardi/opt/miniconda3/lib/python3.8/site-packages (from sacremoses->transformers) (1.0.1)\n",
      "Requirement already satisfied: chardet<4,>=3.0.2 in /Users/guardi/opt/miniconda3/lib/python3.8/site-packages (from requests->transformers) (3.0.4)\n",
      "Requirement already satisfied: certifi>=2017.4.17 in /Users/guardi/opt/miniconda3/lib/python3.8/site-packages (from requests->transformers) (2020.6.20)\n",
      "Requirement already satisfied: idna<3,>=2.5 in /Users/guardi/opt/miniconda3/lib/python3.8/site-packages (from requests->transformers) (2.10)\n",
      "Requirement already satisfied: urllib3!=1.25.0,!=1.25.1,<1.26,>=1.21.1 in /Users/guardi/opt/miniconda3/lib/python3.8/site-packages (from requests->transformers) (1.25.11)\n",
      "Requirement already satisfied: pyparsing>=2.0.2 in /Users/guardi/opt/miniconda3/lib/python3.8/site-packages (from packaging->transformers) (2.4.7)\n",
      "Building wheels for collected packages: sacremoses\n",
      "  Building wheel for sacremoses (setup.py) ... \u001b[?25ldone\n",
      "\u001b[?25h  Created wheel for sacremoses: filename=sacremoses-0.0.43-py3-none-any.whl size=893259 sha256=96b384ada8a271285c381a84e5a4639391e5a2262a2b32e55185d7118c7446a0\n",
      "  Stored in directory: /Users/guardi/Library/Caches/pip/wheels/7b/78/f4/27d43a65043e1b75dbddaa421b573eddc67e712be4b1c80677\n",
      "Successfully built sacremoses\n",
      "Installing collected packages: tokenizers, regex, filelock, click, sacremoses, transformers\n",
      "Successfully installed click-7.1.2 filelock-3.0.12 regex-2021.3.17 sacremoses-0.0.43 tokenizers-0.10.1 transformers-4.4.2\n"
     ]
    }
   ],
   "source": [
    "!pip install transformers"
   ]
  },
  {
   "cell_type": "markdown",
   "metadata": {
    "id": "hRMxq4wepEho"
   },
   "source": [
    "# Zero Shot Sentiment and Topic Classification\n",
    "\n",
    "The model in this notebook was used throughout when unsupervised techniques were merited. Initially done to try out some new techniques, the results were interesting and promising so I used it like the frog's DNA in Jurassic Park, to fill in some of the missing pieces (labels).\n",
    "1. Sentiment Analysis on Snorkel labeled Population articles\n",
    "2. Zero shot topic classification for early exploration"
   ]
  },
  {
   "cell_type": "code",
   "execution_count": 3,
   "metadata": {
    "id": "K6Xa27xMVCr6"
   },
   "outputs": [],
   "source": [
    "import pandas as pd\n",
    "import numpy as np\n",
    "import transformers"
   ]
  },
  {
   "cell_type": "code",
   "execution_count": 20,
   "metadata": {
    "id": "TvwI5sfiVMng"
   },
   "outputs": [],
   "source": [
    "# df = pd.read_csv('/content/drive/MyDrive/NLP_Final_Project/df_cleanfull.csv')\n",
    "# df = pd.read_csv('/content/big_trimmed.csv',index_col=0)\n",
    "# df = pd.read_csv('pop1.csv')\n",
    "df = pd.read_csv('pop_labeled_news.csv')"
   ]
  },
  {
   "cell_type": "code",
   "execution_count": 21,
   "metadata": {
    "colab": {
     "base_uri": "https://localhost:8080/",
     "height": 204
    },
    "id": "NE4i-ZTcGAuI",
    "outputId": "7902d0ce-e197-43dd-cf21-e000287c6f23"
   },
   "outputs": [
    {
     "data": {
      "text/html": [
       "<div>\n",
       "<style scoped>\n",
       "    .dataframe tbody tr th:only-of-type {\n",
       "        vertical-align: middle;\n",
       "    }\n",
       "\n",
       "    .dataframe tbody tr th {\n",
       "        vertical-align: top;\n",
       "    }\n",
       "\n",
       "    .dataframe thead th {\n",
       "        text-align: right;\n",
       "    }\n",
       "</style>\n",
       "<table border=\"1\" class=\"dataframe\">\n",
       "  <thead>\n",
       "    <tr style=\"text-align: right;\">\n",
       "      <th></th>\n",
       "      <th>Unnamed: 0</th>\n",
       "      <th>title_clean</th>\n",
       "      <th>text_clean</th>\n",
       "      <th>PredictedClass</th>\n",
       "      <th>Relevant</th>\n",
       "    </tr>\n",
       "  </thead>\n",
       "  <tbody>\n",
       "    <tr>\n",
       "      <th>0</th>\n",
       "      <td>377</td>\n",
       "      <td>['nine', 'dekalb', 'county', 'resident', 'test...</td>\n",
       "      <td>Also: DeKalb County region on track to qualify...</td>\n",
       "      <td>events</td>\n",
       "      <td>1</td>\n",
       "    </tr>\n",
       "    <tr>\n",
       "      <th>1</th>\n",
       "      <td>666</td>\n",
       "      <td>['eye', 'illinois', 'timing', 'link’s', 'resig...</td>\n",
       "      <td>The good news: Terry Link quit his job..  The ...</td>\n",
       "      <td>events</td>\n",
       "      <td>1</td>\n",
       "    </tr>\n",
       "    <tr>\n",
       "      <th>2</th>\n",
       "      <td>833</td>\n",
       "      <td>['graduated', 'income', 'tax', 'illinois', 'th...</td>\n",
       "      <td>Small businesses are the heart of our neighbor...</td>\n",
       "      <td>events</td>\n",
       "      <td>1</td>\n",
       "    </tr>\n",
       "    <tr>\n",
       "      <th>3</th>\n",
       "      <td>1465</td>\n",
       "      <td>['goodbye', 'new', 'york', 'california', 'illi...</td>\n",
       "      <td>1 / 4 Goodbye, New York, California and Illino...</td>\n",
       "      <td>events</td>\n",
       "      <td>1</td>\n",
       "    </tr>\n",
       "    <tr>\n",
       "      <th>4</th>\n",
       "      <td>1649</td>\n",
       "      <td>['sangamon', 'among', '93', 'illinois', 'count...</td>\n",
       "      <td>Sangamon saw its population decrease by 2,419,...</td>\n",
       "      <td>events</td>\n",
       "      <td>1</td>\n",
       "    </tr>\n",
       "  </tbody>\n",
       "</table>\n",
       "</div>"
      ],
      "text/plain": [
       "   Unnamed: 0  ... Relevant\n",
       "0         377  ...        1\n",
       "1         666  ...        1\n",
       "2         833  ...        1\n",
       "3        1465  ...        1\n",
       "4        1649  ...        1\n",
       "\n",
       "[5 rows x 5 columns]"
      ]
     },
     "execution_count": 21,
     "metadata": {
      "tags": []
     },
     "output_type": "execute_result"
    }
   ],
   "source": [
    "df.head(5)"
   ]
  },
  {
   "cell_type": "markdown",
   "metadata": {
    "id": "behU2Vna6drr"
   },
   "source": [
    "Load and Transform Data"
   ]
  },
  {
   "cell_type": "code",
   "execution_count": 22,
   "metadata": {
    "id": "al73xBbu12Z5"
   },
   "outputs": [],
   "source": [
    "df = df[df['Relevant'] == 1]"
   ]
  },
  {
   "cell_type": "code",
   "execution_count": 23,
   "metadata": {
    "id": "p4bUM4zwZRn-"
   },
   "outputs": [],
   "source": [
    "title_clean = df['title_clean']\n",
    "df = df['text_clean']"
   ]
  },
  {
   "cell_type": "code",
   "execution_count": 24,
   "metadata": {
    "id": "YGRtJymcZgbb"
   },
   "outputs": [],
   "source": [
    "text = df.tolist()"
   ]
  },
  {
   "cell_type": "markdown",
   "metadata": {
    "id": "37ajaOHtp-Eq"
   },
   "source": [
    "## Load Huggingface model\n",
    "#### Valhalla distillbert trained on MNLI\n",
    "Sentiment Zero Shot Classification performed using a verision of The Multi-Genre Natural Language Inference (MultiNLI) corpus is a crowd-sourced collection of 433k sentence pairs annotated with textual entailment information.\n",
    "\n",
    "#### Use huggingface zero shot pipeline and load model"
   ]
  },
  {
   "cell_type": "code",
   "execution_count": 25,
   "metadata": {
    "id": "kvqwiNz6UjBF"
   },
   "outputs": [],
   "source": [
    "from transformers import pipeline\n",
    "\n",
    "classifier = pipeline(\"zero-shot-classification\",\n",
    "                      device=0,\n",
    "                      model=\"valhalla/distilbart-mnli-12-3\")"
   ]
  },
  {
   "cell_type": "markdown",
   "metadata": {
    "id": "QfoyRoUN7JiB"
   },
   "source": [
    "### Add classification categories and test output"
   ]
  },
  {
   "cell_type": "code",
   "execution_count": 26,
   "metadata": {
    "id": "EL5_LZGtU2Ly"
   },
   "outputs": [],
   "source": [
    "sequence_to_classify = text[0]\n",
    "# candidate_labels = ['business', 'politics', 'sports', 'health', 'work', 'covid', 'school', 'culture', 'events']\n",
    "candidate_labels = ['positive', 'negative']\n",
    "\n",
    "results = classifier(sequence_to_classify, candidate_labels,multi_class=False)\n",
    "\n",
    "# If more than one candidate label can be correct, pass multi_class=True to calculate each class independently:"
   ]
  },
  {
   "cell_type": "code",
   "execution_count": 27,
   "metadata": {
    "colab": {
     "base_uri": "https://localhost:8080/"
    },
    "id": "qiXXVt8EmJks",
    "outputId": "fb75a1b3-4bbe-4d51-b13b-4e7c372328f4"
   },
   "outputs": [
    {
     "data": {
      "text/plain": [
       "{'labels': ['positive', 'negative'],\n",
       " 'scores': [0.5070857405662537, 0.4929142892360687],\n",
       " 'sequence': \"Also: DeKalb County region on track to qualify for Phase 3 re-opening pending testing metrics By Daily Chronicle Mark Black for Shaw Media Caption Vehicles funnel into three testing bays at the Illinois run drive-through COVID-19 testing facility, managed by the Illinois National Guard, at the Chicago Premium Outlets mall in Aurora. The site quickly reached capacity within less than an hour on the second full day of operation in Aurora Apr. 24. Mark Busch – mbusch@shawmedia.com Caption Sam Cohn, a server at The Junction Eating Place, wipes down the counter Sunday at the eatery on West Lincoln Highway in DeKalb. Mark Busch file photo – mbusch@shawmedia.com Caption For the fourth time in the past five days, the DeKalb County Health Department has reported no new coronavirus cases locally, leaving the county as of Monday at 36, including one death. As a public service, Shaw Media will provide open access to information related to the COVID-19 (Coronavirus) emergency. Sign up for the newsletter here.  SYCAMORE – Nine more DeKalb County residents have tested positive for the novel coronavirus Monday, according to the DeKalb County Health Department , bringing the total to 193 positive cases reported to date..  New cases include another resident under 19, four in their 30s, two in their 40s, and one each in their 50s and 70s. In total, 68 have recovered as of Friday, and two residents have died..  Where we stand with Restore Illinois metrics.  According to newly updated Restore Illinois data which tracks testing, hospital and medical supply availability in regions to determine whether certain businesses and services throughout the state can begin to reopen, DeKalb County's region remains within certain criteria to move forward to Phase 3 of Gov. JB Pritzker's plan at the end of May..  Illinois is in Phase 2 of the five-phase plan. In particular, the North Central Region (which includes DeKalb County) is reporting an 8.96% positive rate, which falls under the threshold for positive cases which must be 20% or lower than the number of tests performed for a 14-day consecutive period. According to IDPH data, the region has been tracking that way since May 1..  In order to move to Phase 3, the region would also would need to go 28 days without an overall increase in COVID-19 hospital admissions, and have at least 14% of all hospital beds, ICU beds and ventilators available for surge capacity..  The region reports 41% of ICU beds are available and 60% of ventilators are available as of May 8, the most recent available data..  Other criteria to move forward to Phase 3, however, such as robust testing and contact tracing, are still unclear, as no guidelines have yet been laid out on metrics from the Illinois Department of Public Health..  Local COVID-cases, testing data.  Including the new cases, there have been nine COVID-19 occurrences in residents younger than age 19, and 37 in residents in their 20s, with 42 in their 30s, 41 in their 40s, 40 in their 50s, nine in their 60s, 13 in their 70s and two in their 80s..  The two deaths reported in the county were both men; one a resident in his 50s, announced April 6, and one in his 60s , announced Saturday..  The Illinois Department of Public Health lists cases and tests by ZIP code, while the county health department lists cases by municipality. The 60135 ZIP code, which includes Genoa, has 19 confirmed cases and 128 tests administered. The 60115 ZIP code went up to 66 cases and 678 tests, while the 60178 ZIP code has 22 confirmed cases and 308 tests..  As of Monday, a total of 79,007 cases have been confirmed statewide, with 3,459 deaths and 442,425 tests performed, according to the IDPH..  Data from the state health department released Sunday afternoon also shows that 1,563 COVID-19 tests have been conducted in DeKalb County (which has a population of about 105,000 according to the 2010 Census) to date. As of Friday, 1,393 of those tests have come back negative..  The city of DeKalb is reported to have between 66 and 70 cases. Sandwich has between 26 and 30 cases. Sycamore and Genoa each report between 21 and 25. Cortland reports between 16 and 20 cases, while Kingston is reported to have between six and 10 cases. Kirkland, Esmond, Malta, Maple Park, Hinckley, Shabbona, Somonauk and Waterman each report between one and five cases..  COVID-19 testing is being conducted at Northwestern Medicine health system hospitals and private lab facilities, including through Physicians Immediate Care and the Center for Family Health in Sycamore , which are prioritizing high-risk patients, first responders and health care workers and those experiencing severe symptoms. Related Links\"}"
      ]
     },
     "execution_count": 27,
     "metadata": {
      "tags": []
     },
     "output_type": "execute_result"
    }
   ],
   "source": [
    "results"
   ]
  },
  {
   "cell_type": "markdown",
   "metadata": {
    "id": "NtvSq81C7Xyu"
   },
   "source": [
    "### Apply to dataset"
   ]
  },
  {
   "cell_type": "code",
   "execution_count": 28,
   "metadata": {
    "id": "juSOFvwliGmx"
   },
   "outputs": [],
   "source": [
    "texts = []\n",
    "scores = []\n",
    "classes = []"
   ]
  },
  {
   "cell_type": "code",
   "execution_count": 29,
   "metadata": {
    "id": "AV7AjZtwU40R"
   },
   "outputs": [],
   "source": [
    "for i in range(len(text)):\n",
    "  sequence_to_classify = text[i]\n",
    "  # candidate_labels = ['corruption', 'climate', 'taxes', 'immigration', 'jobs']\n",
    "  candidate_labels = ['positive', 'negative']\n",
    "  results = classifier(sequence_to_classify, candidate_labels,multi_class=False)\n",
    "  texts.append(sequence_to_classify)\n",
    "  scores.append(results[\"scores\"][:2])\n",
    "  classes.append(results[\"labels\"][:2])\n",
    "  "
   ]
  },
  {
   "cell_type": "code",
   "execution_count": 65,
   "metadata": {
    "id": "Rb8fcJ_7ioLb"
   },
   "outputs": [],
   "source": [
    "classes_df = pd.DataFrame({'Title':title_clean,'Text':texts, 'Scores':scores, 'Classes':classes})"
   ]
  },
  {
   "cell_type": "markdown",
   "metadata": {
    "id": "IWFd159J7gJy"
   },
   "source": [
    "### Check Results and make pretty"
   ]
  },
  {
   "cell_type": "code",
   "execution_count": 66,
   "metadata": {
    "colab": {
     "base_uri": "https://localhost:8080/",
     "height": 419
    },
    "id": "hHco2DMglxc7",
    "outputId": "9a83bf17-4aa3-491a-d157-403b896ac923"
   },
   "outputs": [
    {
     "data": {
      "text/html": [
       "<div>\n",
       "<style scoped>\n",
       "    .dataframe tbody tr th:only-of-type {\n",
       "        vertical-align: middle;\n",
       "    }\n",
       "\n",
       "    .dataframe tbody tr th {\n",
       "        vertical-align: top;\n",
       "    }\n",
       "\n",
       "    .dataframe thead th {\n",
       "        text-align: right;\n",
       "    }\n",
       "</style>\n",
       "<table border=\"1\" class=\"dataframe\">\n",
       "  <thead>\n",
       "    <tr style=\"text-align: right;\">\n",
       "      <th></th>\n",
       "      <th>Title</th>\n",
       "      <th>Text</th>\n",
       "      <th>Scores</th>\n",
       "      <th>Classes</th>\n",
       "    </tr>\n",
       "  </thead>\n",
       "  <tbody>\n",
       "    <tr>\n",
       "      <th>0</th>\n",
       "      <td>['nine', 'dekalb', 'county', 'resident', 'test...</td>\n",
       "      <td>Also: DeKalb County region on track to qualify...</td>\n",
       "      <td>[0.5070857405662537, 0.4929142892360687]</td>\n",
       "      <td>[positive, negative]</td>\n",
       "    </tr>\n",
       "    <tr>\n",
       "      <th>1</th>\n",
       "      <td>['eye', 'illinois', 'timing', 'link’s', 'resig...</td>\n",
       "      <td>The good news: Terry Link quit his job..  The ...</td>\n",
       "      <td>[0.5299054384231567, 0.4700945317745209]</td>\n",
       "      <td>[negative, positive]</td>\n",
       "    </tr>\n",
       "    <tr>\n",
       "      <th>2</th>\n",
       "      <td>['graduated', 'income', 'tax', 'illinois', 'th...</td>\n",
       "      <td>Small businesses are the heart of our neighbor...</td>\n",
       "      <td>[0.6016096472740173, 0.3983902931213379]</td>\n",
       "      <td>[negative, positive]</td>\n",
       "    </tr>\n",
       "    <tr>\n",
       "      <th>3</th>\n",
       "      <td>['goodbye', 'new', 'york', 'california', 'illi...</td>\n",
       "      <td>1 / 4 Goodbye, New York, California and Illino...</td>\n",
       "      <td>[0.5023202300071716, 0.49767979979515076]</td>\n",
       "      <td>[negative, positive]</td>\n",
       "    </tr>\n",
       "    <tr>\n",
       "      <th>4</th>\n",
       "      <td>['sangamon', 'among', '93', 'illinois', 'count...</td>\n",
       "      <td>Sangamon saw its population decrease by 2,419,...</td>\n",
       "      <td>[0.7003471851348877, 0.29965275526046753]</td>\n",
       "      <td>[negative, positive]</td>\n",
       "    </tr>\n",
       "    <tr>\n",
       "      <th>...</th>\n",
       "      <td>...</td>\n",
       "      <td>...</td>\n",
       "      <td>...</td>\n",
       "      <td>...</td>\n",
       "    </tr>\n",
       "    <tr>\n",
       "      <th>1488</th>\n",
       "      <td>['millennials', 'moving', 'chicago', 'city', '...</td>\n",
       "      <td>Katey Frederking, 28, used to live in Ravenswo...</td>\n",
       "      <td>[0.665336012840271, 0.334663987159729]</td>\n",
       "      <td>[negative, positive]</td>\n",
       "    </tr>\n",
       "    <tr>\n",
       "      <th>1489</th>\n",
       "      <td>['illinois', 'bad', 'governance']</td>\n",
       "      <td>Why Illinois Has Bad Governance.  I think that...</td>\n",
       "      <td>[0.5008577704429626, 0.49914222955703735]</td>\n",
       "      <td>[positive, negative]</td>\n",
       "    </tr>\n",
       "    <tr>\n",
       "      <th>1490</th>\n",
       "      <td>['poor', 'governance', 'fuel', 'illinois', 'ex...</td>\n",
       "      <td>Illinois has a population problem: Our populat...</td>\n",
       "      <td>[0.5657886862754822, 0.43421128392219543]</td>\n",
       "      <td>[negative, positive]</td>\n",
       "    </tr>\n",
       "    <tr>\n",
       "      <th>1491</th>\n",
       "      <td>['poor', 'governance', 'fuel', 'illinois', 'ex...</td>\n",
       "      <td>Illinois has a population problem: Our populat...</td>\n",
       "      <td>[0.5657886862754822, 0.43421128392219543]</td>\n",
       "      <td>[negative, positive]</td>\n",
       "    </tr>\n",
       "    <tr>\n",
       "      <th>1492</th>\n",
       "      <td>['illinois', 'state', 'house', 'district', '10...</td>\n",
       "      <td>By Press release submission | Aug 14, 2020.  I...</td>\n",
       "      <td>[0.5014721751213074, 0.4985278248786926]</td>\n",
       "      <td>[positive, negative]</td>\n",
       "    </tr>\n",
       "  </tbody>\n",
       "</table>\n",
       "<p>1493 rows × 4 columns</p>\n",
       "</div>"
      ],
      "text/plain": [
       "                                                  Title  ...               Classes\n",
       "0     ['nine', 'dekalb', 'county', 'resident', 'test...  ...  [positive, negative]\n",
       "1     ['eye', 'illinois', 'timing', 'link’s', 'resig...  ...  [negative, positive]\n",
       "2     ['graduated', 'income', 'tax', 'illinois', 'th...  ...  [negative, positive]\n",
       "3     ['goodbye', 'new', 'york', 'california', 'illi...  ...  [negative, positive]\n",
       "4     ['sangamon', 'among', '93', 'illinois', 'count...  ...  [negative, positive]\n",
       "...                                                 ...  ...                   ...\n",
       "1488  ['millennials', 'moving', 'chicago', 'city', '...  ...  [negative, positive]\n",
       "1489                  ['illinois', 'bad', 'governance']  ...  [positive, negative]\n",
       "1490  ['poor', 'governance', 'fuel', 'illinois', 'ex...  ...  [negative, positive]\n",
       "1491  ['poor', 'governance', 'fuel', 'illinois', 'ex...  ...  [negative, positive]\n",
       "1492  ['illinois', 'state', 'house', 'district', '10...  ...  [positive, negative]\n",
       "\n",
       "[1493 rows x 4 columns]"
      ]
     },
     "execution_count": 66,
     "metadata": {
      "tags": []
     },
     "output_type": "execute_result"
    }
   ],
   "source": [
    "classes_df"
   ]
  },
  {
   "cell_type": "code",
   "execution_count": null,
   "metadata": {
    "id": "mb2AT9iOkOab"
   },
   "outputs": [],
   "source": [
    "list(classes_df.iloc[0])"
   ]
  },
  {
   "cell_type": "code",
   "execution_count": 68,
   "metadata": {
    "id": "IMnOmhD3GJQE"
   },
   "outputs": [],
   "source": [
    "classes_df['PredictedClass'] = classes_df['Classes'].map(lambda x: x[0])"
   ]
  },
  {
   "cell_type": "code",
   "execution_count": 69,
   "metadata": {
    "colab": {
     "base_uri": "https://localhost:8080/",
     "height": 289
    },
    "id": "0LjS13axbPsz",
    "outputId": "df305e99-54bf-42c9-dc86-b759699b55aa"
   },
   "outputs": [
    {
     "data": {
      "text/html": [
       "<div>\n",
       "<style scoped>\n",
       "    .dataframe tbody tr th:only-of-type {\n",
       "        vertical-align: middle;\n",
       "    }\n",
       "\n",
       "    .dataframe tbody tr th {\n",
       "        vertical-align: top;\n",
       "    }\n",
       "\n",
       "    .dataframe thead th {\n",
       "        text-align: right;\n",
       "    }\n",
       "</style>\n",
       "<table border=\"1\" class=\"dataframe\">\n",
       "  <thead>\n",
       "    <tr style=\"text-align: right;\">\n",
       "      <th></th>\n",
       "      <th>Title</th>\n",
       "      <th>Text</th>\n",
       "      <th>Scores</th>\n",
       "      <th>Classes</th>\n",
       "      <th>PredictedClass</th>\n",
       "      <th>TopScore</th>\n",
       "    </tr>\n",
       "  </thead>\n",
       "  <tbody>\n",
       "    <tr>\n",
       "      <th>0</th>\n",
       "      <td>['nine', 'dekalb', 'county', 'resident', 'test...</td>\n",
       "      <td>Also: DeKalb County region on track to qualify...</td>\n",
       "      <td>[0.5070857405662537, 0.4929142892360687]</td>\n",
       "      <td>[positive, negative]</td>\n",
       "      <td>positive</td>\n",
       "      <td>0.507086</td>\n",
       "    </tr>\n",
       "    <tr>\n",
       "      <th>1</th>\n",
       "      <td>['eye', 'illinois', 'timing', 'link’s', 'resig...</td>\n",
       "      <td>The good news: Terry Link quit his job..  The ...</td>\n",
       "      <td>[0.5299054384231567, 0.4700945317745209]</td>\n",
       "      <td>[negative, positive]</td>\n",
       "      <td>negative</td>\n",
       "      <td>0.529905</td>\n",
       "    </tr>\n",
       "    <tr>\n",
       "      <th>2</th>\n",
       "      <td>['graduated', 'income', 'tax', 'illinois', 'th...</td>\n",
       "      <td>Small businesses are the heart of our neighbor...</td>\n",
       "      <td>[0.6016096472740173, 0.3983902931213379]</td>\n",
       "      <td>[negative, positive]</td>\n",
       "      <td>negative</td>\n",
       "      <td>0.601610</td>\n",
       "    </tr>\n",
       "    <tr>\n",
       "      <th>3</th>\n",
       "      <td>['goodbye', 'new', 'york', 'california', 'illi...</td>\n",
       "      <td>1 / 4 Goodbye, New York, California and Illino...</td>\n",
       "      <td>[0.5023202300071716, 0.49767979979515076]</td>\n",
       "      <td>[negative, positive]</td>\n",
       "      <td>negative</td>\n",
       "      <td>0.502320</td>\n",
       "    </tr>\n",
       "    <tr>\n",
       "      <th>4</th>\n",
       "      <td>['sangamon', 'among', '93', 'illinois', 'count...</td>\n",
       "      <td>Sangamon saw its population decrease by 2,419,...</td>\n",
       "      <td>[0.7003471851348877, 0.29965275526046753]</td>\n",
       "      <td>[negative, positive]</td>\n",
       "      <td>negative</td>\n",
       "      <td>0.700347</td>\n",
       "    </tr>\n",
       "  </tbody>\n",
       "</table>\n",
       "</div>"
      ],
      "text/plain": [
       "                                               Title  ...  TopScore\n",
       "0  ['nine', 'dekalb', 'county', 'resident', 'test...  ...  0.507086\n",
       "1  ['eye', 'illinois', 'timing', 'link’s', 'resig...  ...  0.529905\n",
       "2  ['graduated', 'income', 'tax', 'illinois', 'th...  ...  0.601610\n",
       "3  ['goodbye', 'new', 'york', 'california', 'illi...  ...  0.502320\n",
       "4  ['sangamon', 'among', '93', 'illinois', 'count...  ...  0.700347\n",
       "\n",
       "[5 rows x 6 columns]"
      ]
     },
     "execution_count": 69,
     "metadata": {
      "tags": []
     },
     "output_type": "execute_result"
    }
   ],
   "source": [
    "classes_df['TopScore'] = classes_df['Scores'].map(lambda x: x[0])\n",
    "classes_df.head(5)"
   ]
  },
  {
   "cell_type": "code",
   "execution_count": 3,
   "metadata": {
    "id": "5pSz1ycGlukw"
   },
   "outputs": [],
   "source": [
    "### save\n",
    "# classes_df.drop(['Scores','Classes'],axis=1,inplace=True)\n",
    "# classes_df.to_csv('pop_sent.csv')"
   ]
  },
  {
   "cell_type": "code",
   "execution_count": 40,
   "metadata": {
    "id": "kLDUkm7RmnIM"
   },
   "outputs": [],
   "source": [
    "pd.set_option('display.max_colwidth', 200)"
   ]
  },
  {
   "cell_type": "code",
   "execution_count": 41,
   "metadata": {
    "colab": {
     "base_uri": "https://localhost:8080/",
     "height": 529
    },
    "id": "ROSUlE7VcPup",
    "outputId": "2b3f3584-bcee-4132-d0c0-1434f28c6a3c"
   },
   "outputs": [
    {
     "data": {
      "text/html": [
       "<div>\n",
       "<style scoped>\n",
       "    .dataframe tbody tr th:only-of-type {\n",
       "        vertical-align: middle;\n",
       "    }\n",
       "\n",
       "    .dataframe tbody tr th {\n",
       "        vertical-align: top;\n",
       "    }\n",
       "\n",
       "    .dataframe thead th {\n",
       "        text-align: right;\n",
       "    }\n",
       "</style>\n",
       "<table border=\"1\" class=\"dataframe\">\n",
       "  <thead>\n",
       "    <tr style=\"text-align: right;\">\n",
       "      <th></th>\n",
       "      <th>Text</th>\n",
       "      <th>PredictedClass</th>\n",
       "      <th>TopScore</th>\n",
       "    </tr>\n",
       "  </thead>\n",
       "  <tbody>\n",
       "    <tr>\n",
       "      <th>492</th>\n",
       "      <td>Illinois has dropped to the sixth most populated state, with Pennsylvania taking over the fifth spot. For the past five years, big cities like Chicago, as well as other large metropolitan areas, h...</td>\n",
       "      <td>negative</td>\n",
       "      <td>0.795586</td>\n",
       "    </tr>\n",
       "    <tr>\n",
       "      <th>1108</th>\n",
       "      <td>Mayor Lori E. Lightfoot today announced $700,000 in grant funding for 32 community-based organizations to support the City’s efforts in educating and engaging residents about the upcoming 2020 U.S...</td>\n",
       "      <td>positive</td>\n",
       "      <td>0.502961</td>\n",
       "    </tr>\n",
       "    <tr>\n",
       "      <th>14</th>\n",
       "      <td>CoStar Group.  The Jewel-Osco store in Woodlawn..  Less than a year after opening, the Jewel-Osco in Woodlawn has a new owner: the University of Chicago..  A venture connected to the university pa...</td>\n",
       "      <td>negative</td>\n",
       "      <td>0.505177</td>\n",
       "    </tr>\n",
       "    <tr>\n",
       "      <th>564</th>\n",
       "      <td>There were 96 wholesale trade businesses in Illinois that had between 250 and 499 employees in 2016, according to County Business Patterns (CBP) statistics provided by the United States Census Bur...</td>\n",
       "      <td>negative</td>\n",
       "      <td>0.532154</td>\n",
       "    </tr>\n",
       "    <tr>\n",
       "      <th>1186</th>\n",
       "      <td>Give the “all lives matter” crew this much: they’re dogged..  Saturday’s column dismissed the asinine retort to the powerful Black Lives Matter movement, but one reader refused to be denied:.  “Th...</td>\n",
       "      <td>negative</td>\n",
       "      <td>0.677230</td>\n",
       "    </tr>\n",
       "    <tr>\n",
       "      <th>1198</th>\n",
       "      <td>To supplement the loss of motor fuel tax funds Danville is losing due to people driving less with the stay at home order, Danville officials are anticipating the city will receive almost $2.2 mill...</td>\n",
       "      <td>positive</td>\n",
       "      <td>0.553051</td>\n",
       "    </tr>\n",
       "    <tr>\n",
       "      <th>1239</th>\n",
       "      <td>The U.S. Census Bureau confirmed it will count the student population from now-shuttered dormitories, but some officials in large college towns remain concerned that campus closures because of the...</td>\n",
       "      <td>negative</td>\n",
       "      <td>0.500192</td>\n",
       "    </tr>\n",
       "    <tr>\n",
       "      <th>314</th>\n",
       "      <td>Every presidential election cycle, voters across the country give Iowa the side-eye. Why does Iowa play such an outsize role in the nomination process? Why should its precinct caucuses fall first ...</td>\n",
       "      <td>negative</td>\n",
       "      <td>0.600035</td>\n",
       "    </tr>\n",
       "    <tr>\n",
       "      <th>1421</th>\n",
       "      <td>Illinois has only 36 available, affordable rental homes for every 100 extremely low-income households; the 2020 census will determine funding for federal programs that alleviate shortage.  FOR IMM...</td>\n",
       "      <td>negative</td>\n",
       "      <td>0.526087</td>\n",
       "    </tr>\n",
       "    <tr>\n",
       "      <th>328</th>\n",
       "      <td>Take a load off. You worked so hard. Chicago Police doing damage control after 13 cops were caught abandoning their posts. They took shelter in Bobby Rush's campaign office. During the first night...</td>\n",
       "      <td>negative</td>\n",
       "      <td>0.520867</td>\n",
       "    </tr>\n",
       "  </tbody>\n",
       "</table>\n",
       "</div>"
      ],
      "text/plain": [
       "                                                                                                                                                                                                         Text  ...  TopScore\n",
       "492   Illinois has dropped to the sixth most populated state, with Pennsylvania taking over the fifth spot. For the past five years, big cities like Chicago, as well as other large metropolitan areas, h...  ...  0.795586\n",
       "1108  Mayor Lori E. Lightfoot today announced $700,000 in grant funding for 32 community-based organizations to support the City’s efforts in educating and engaging residents about the upcoming 2020 U.S...  ...  0.502961\n",
       "14    CoStar Group.  The Jewel-Osco store in Woodlawn..  Less than a year after opening, the Jewel-Osco in Woodlawn has a new owner: the University of Chicago..  A venture connected to the university pa...  ...  0.505177\n",
       "564   There were 96 wholesale trade businesses in Illinois that had between 250 and 499 employees in 2016, according to County Business Patterns (CBP) statistics provided by the United States Census Bur...  ...  0.532154\n",
       "1186  Give the “all lives matter” crew this much: they’re dogged..  Saturday’s column dismissed the asinine retort to the powerful Black Lives Matter movement, but one reader refused to be denied:.  “Th...  ...  0.677230\n",
       "1198  To supplement the loss of motor fuel tax funds Danville is losing due to people driving less with the stay at home order, Danville officials are anticipating the city will receive almost $2.2 mill...  ...  0.553051\n",
       "1239  The U.S. Census Bureau confirmed it will count the student population from now-shuttered dormitories, but some officials in large college towns remain concerned that campus closures because of the...  ...  0.500192\n",
       "314   Every presidential election cycle, voters across the country give Iowa the side-eye. Why does Iowa play such an outsize role in the nomination process? Why should its precinct caucuses fall first ...  ...  0.600035\n",
       "1421  Illinois has only 36 available, affordable rental homes for every 100 extremely low-income households; the 2020 census will determine funding for federal programs that alleviate shortage.  FOR IMM...  ...  0.526087\n",
       "328   Take a load off. You worked so hard. Chicago Police doing damage control after 13 cops were caught abandoning their posts. They took shelter in Bobby Rush's campaign office. During the first night...  ...  0.520867\n",
       "\n",
       "[10 rows x 3 columns]"
      ]
     },
     "execution_count": 41,
     "metadata": {
      "tags": []
     },
     "output_type": "execute_result"
    }
   ],
   "source": [
    "classes_df[['Text','PredictedClass','TopScore']].sample(10)"
   ]
  },
  {
   "cell_type": "code",
   "execution_count": 79,
   "metadata": {
    "colab": {
     "base_uri": "https://localhost:8080/",
     "height": 542
    },
    "id": "QxmR9IZHqrDZ",
    "outputId": "cedd9151-9333-4d8c-cf5a-0eac87e4e9f4"
   },
   "outputs": [
    {
     "data": {
      "text/html": [
       "<html>\n",
       "<head><meta charset=\"utf-8\" /></head>\n",
       "<body>\n",
       "    <div>\n",
       "            <script src=\"https://cdnjs.cloudflare.com/ajax/libs/mathjax/2.7.5/MathJax.js?config=TeX-AMS-MML_SVG\"></script><script type=\"text/javascript\">if (window.MathJax) {MathJax.Hub.Config({SVG: {font: \"STIX-Web\"}});}</script>\n",
       "                <script type=\"text/javascript\">window.PlotlyConfig = {MathJaxConfig: 'local'};</script>\n",
       "        <script src=\"https://cdn.plot.ly/plotly-latest.min.js\"></script>    \n",
       "            <div id=\"7c169b51-24d3-4ee6-93f8-ff68749f89c6\" class=\"plotly-graph-div\" style=\"height:525px; width:100%;\"></div>\n",
       "            <script type=\"text/javascript\">\n",
       "                \n",
       "                    window.PLOTLYENV=window.PLOTLYENV || {};\n",
       "                    \n",
       "                if (document.getElementById(\"7c169b51-24d3-4ee6-93f8-ff68749f89c6\")) {\n",
       "                    Plotly.newPlot(\n",
       "                        '7c169b51-24d3-4ee6-93f8-ff68749f89c6',\n",
       "                        [{\"alignmentgroup\": \"True\", \"bingroup\": \"x\", \"hoverlabel\": {\"namelength\": 0}, \"hovertemplate\": \"PredictedClass=%{x}<br>count=%{y}\", \"legendgroup\": \"\", \"marker\": {\"color\": \"#636efa\"}, \"name\": \"\", \"offsetgroup\": \"\", \"orientation\": \"v\", \"showlegend\": false, \"type\": \"histogram\", \"x\": [\"positive\", \"negative\", \"negative\", \"negative\", \"negative\", \"negative\", \"negative\", \"negative\", \"positive\", \"negative\", \"negative\", \"positive\", \"positive\", \"positive\", \"negative\", \"positive\", \"negative\", \"positive\", \"negative\", \"positive\", \"negative\", \"positive\", \"positive\", \"negative\", \"negative\", \"positive\", \"negative\", \"negative\", \"positive\", \"negative\", \"negative\", \"negative\", \"positive\", \"negative\", \"negative\", \"negative\", \"negative\", \"positive\", \"positive\", \"positive\", \"negative\", \"positive\", \"negative\", \"negative\", \"negative\", \"negative\", \"negative\", \"negative\", \"negative\", \"negative\", \"negative\", \"positive\", \"positive\", \"negative\", \"positive\", \"positive\", \"positive\", \"negative\", \"positive\", \"positive\", \"negative\", \"positive\", \"negative\", \"positive\", \"positive\", \"negative\", \"positive\", \"negative\", \"positive\", \"negative\", \"negative\", \"negative\", \"negative\", \"negative\", \"negative\", \"negative\", \"negative\", \"negative\", \"positive\", \"negative\", \"negative\", \"negative\", \"positive\", \"negative\", \"positive\", \"negative\", \"positive\", \"positive\", \"negative\", \"positive\", \"negative\", \"positive\", \"negative\", \"negative\", \"positive\", \"positive\", \"positive\", \"negative\", \"negative\", \"negative\", \"positive\", \"positive\", \"positive\", \"negative\", \"positive\", \"positive\", \"negative\", \"negative\", \"negative\", \"negative\", \"positive\", \"negative\", \"negative\", \"negative\", \"negative\", \"positive\", \"negative\", \"positive\", \"negative\", \"negative\", \"negative\", \"negative\", \"negative\", \"positive\", \"negative\", \"negative\", \"negative\", \"positive\", \"positive\", \"negative\", \"positive\", \"negative\", \"negative\", \"positive\", \"negative\", \"negative\", \"negative\", \"negative\", \"positive\", \"negative\", \"negative\", \"negative\", \"negative\", \"positive\", \"negative\", \"negative\", \"negative\", \"negative\", \"negative\", \"positive\", \"negative\", \"negative\", \"negative\", \"negative\", \"negative\", \"positive\", \"negative\", \"negative\", \"positive\", \"negative\", \"negative\", \"positive\", \"negative\", \"negative\", \"negative\", \"negative\", \"positive\", \"positive\", \"negative\", \"positive\", \"positive\", \"negative\", \"positive\", \"positive\", \"negative\", \"negative\", \"positive\", \"positive\", \"negative\", \"negative\", \"positive\", \"negative\", \"negative\", \"negative\", \"negative\", \"positive\", \"positive\", \"negative\", \"positive\", \"positive\", \"positive\", \"negative\", \"positive\", \"negative\", \"positive\", \"negative\", \"negative\", \"negative\", \"negative\", \"negative\", \"negative\", \"negative\", \"negative\", \"negative\", \"negative\", \"positive\", \"negative\", \"positive\", \"negative\", \"negative\", \"negative\", \"negative\", \"positive\", \"negative\", \"negative\", \"positive\", \"negative\", \"negative\", \"negative\", \"positive\", \"positive\", \"positive\", \"positive\", \"negative\", \"negative\", \"negative\", \"negative\", \"negative\", \"negative\", \"negative\", \"negative\", \"negative\", \"negative\", \"negative\", \"positive\", \"negative\", \"negative\", \"negative\", \"negative\", \"negative\", \"negative\", \"positive\", \"positive\", \"positive\", \"positive\", \"positive\", \"positive\", \"negative\", \"positive\", \"negative\", \"positive\", \"positive\", \"negative\", \"negative\", \"negative\", \"negative\", \"negative\", \"negative\", \"negative\", \"negative\", \"negative\", \"negative\", \"negative\", \"negative\", \"negative\", \"positive\", \"negative\", \"negative\", \"negative\", \"positive\", \"negative\", \"negative\", \"negative\", \"negative\", \"negative\", \"negative\", \"negative\", \"negative\", \"negative\", \"negative\", \"positive\", \"negative\", \"negative\", \"negative\", \"negative\", \"negative\", \"positive\", \"negative\", \"negative\", \"negative\", \"negative\", \"negative\", \"negative\", \"negative\", \"negative\", \"negative\", \"negative\", \"negative\", \"negative\", \"negative\", \"negative\", \"negative\", \"negative\", \"positive\", \"positive\", \"negative\", \"negative\", \"positive\", \"negative\", \"negative\", \"negative\", \"negative\", \"negative\", \"negative\", \"negative\", \"negative\", \"negative\", \"negative\", \"negative\", \"negative\", \"negative\", \"negative\", \"negative\", \"negative\", \"negative\", \"negative\", \"negative\", \"positive\", \"negative\", \"negative\", \"positive\", \"negative\", \"positive\", \"negative\", \"negative\", \"positive\", \"positive\", \"negative\", \"negative\", \"positive\", \"positive\", \"negative\", \"negative\", \"negative\", \"negative\", \"negative\", \"negative\", \"positive\", \"positive\", \"negative\", \"negative\", \"negative\", \"negative\", \"negative\", \"negative\", \"negative\", \"positive\", \"positive\", \"negative\", \"negative\", \"positive\", \"negative\", \"positive\", \"negative\", \"negative\", \"negative\", \"negative\", \"negative\", \"positive\", \"negative\", \"negative\", \"negative\", \"positive\", \"negative\", \"negative\", \"negative\", \"negative\", \"negative\", \"positive\", \"positive\", \"negative\", \"negative\", \"negative\", \"negative\", \"negative\", \"positive\", \"negative\", \"negative\", \"negative\", \"positive\", \"positive\", \"negative\", \"positive\", \"positive\", \"negative\", \"negative\", \"negative\", \"negative\", \"negative\", \"positive\", \"negative\", \"negative\", \"negative\", \"negative\", \"negative\", \"negative\", \"positive\", \"negative\", \"negative\", \"positive\", \"positive\", \"negative\", \"negative\", \"negative\", \"positive\", \"negative\", \"positive\", \"positive\", \"positive\", \"negative\", \"negative\", \"negative\", \"positive\", \"positive\", \"positive\", \"negative\", \"positive\", \"positive\", \"negative\", \"negative\", \"negative\", \"positive\", \"positive\", \"positive\", \"negative\", \"positive\", \"negative\", \"negative\", \"negative\", \"positive\", \"negative\", \"negative\", \"negative\", \"negative\", \"negative\", \"negative\", \"negative\", \"positive\", \"positive\", \"negative\", \"negative\", \"negative\", \"negative\", \"positive\", \"negative\", \"negative\", \"positive\", \"negative\", \"negative\", \"positive\", \"negative\", \"negative\", \"positive\", \"negative\", \"positive\", \"positive\", \"positive\", \"negative\", \"negative\", \"negative\", \"negative\", \"negative\", \"negative\", \"negative\", \"negative\", \"negative\", \"negative\", \"negative\", \"negative\", \"negative\", \"negative\", \"negative\", \"negative\", \"negative\", \"negative\", \"negative\", \"negative\", \"negative\", \"negative\", \"negative\", \"negative\", \"negative\", \"negative\", \"positive\", \"positive\", \"negative\", \"negative\", \"negative\", \"negative\", \"positive\", \"negative\", \"negative\", \"negative\", \"negative\", \"negative\", \"positive\", \"negative\", \"positive\", \"negative\", \"negative\", \"positive\", \"positive\", \"negative\", \"positive\", \"negative\", \"negative\", \"positive\", \"negative\", \"negative\", \"negative\", \"negative\", \"positive\", \"positive\", \"negative\", \"negative\", \"positive\", \"negative\", \"negative\", \"negative\", \"positive\", \"positive\", \"negative\", \"negative\", \"positive\", \"positive\", \"negative\", \"negative\", \"negative\", \"negative\", \"negative\", \"positive\", \"negative\", \"negative\", \"positive\", \"positive\", \"negative\", \"negative\", \"positive\", \"positive\", \"negative\", \"negative\", \"negative\", \"positive\", \"positive\", \"negative\", \"negative\", \"negative\", \"negative\", \"negative\", \"negative\", \"negative\", \"negative\", \"negative\", \"positive\", \"negative\", \"negative\", \"negative\", \"positive\", \"negative\", \"negative\", \"negative\", \"negative\", \"negative\", \"positive\", \"positive\", \"negative\", \"negative\", \"negative\", \"negative\", \"negative\", \"positive\", \"positive\", \"negative\", \"negative\", \"negative\", \"negative\", \"negative\", \"positive\", \"negative\", \"negative\", \"negative\", \"negative\", \"negative\", \"positive\", \"negative\", \"negative\", \"negative\", \"negative\", \"negative\", \"negative\", \"negative\", \"negative\", \"negative\", \"negative\", \"negative\", \"positive\", \"negative\", \"positive\", \"negative\", \"negative\", \"negative\", \"negative\", \"negative\", \"negative\", \"negative\", \"negative\", \"negative\", \"negative\", \"negative\", \"positive\", \"negative\", \"negative\", \"negative\", \"positive\", \"negative\", \"negative\", \"negative\", \"negative\", \"positive\", \"positive\", \"positive\", \"negative\", \"positive\", \"negative\", \"negative\", \"negative\", \"positive\", \"negative\", \"positive\", \"positive\", \"negative\", \"negative\", \"negative\", \"negative\", \"negative\", \"negative\", \"negative\", \"positive\", \"positive\", \"negative\", \"positive\", \"negative\", \"negative\", \"negative\", \"negative\", \"negative\", \"negative\", \"negative\", \"positive\", \"negative\", \"positive\", \"positive\", \"negative\", \"positive\", \"positive\", \"negative\", \"negative\", \"positive\", \"negative\", \"negative\", \"negative\", \"negative\", \"negative\", \"negative\", \"negative\", \"negative\", \"negative\", \"negative\", \"negative\", \"negative\", \"negative\", \"negative\", \"positive\", \"negative\", \"negative\", \"negative\", \"negative\", \"negative\", \"negative\", \"negative\", \"negative\", \"positive\", \"positive\", \"positive\", \"positive\", \"positive\", \"negative\", \"negative\", \"negative\", \"negative\", \"negative\", \"negative\", \"negative\", \"negative\", \"negative\", \"negative\", \"negative\", \"negative\", \"negative\", \"negative\", \"negative\", \"negative\", \"negative\", \"positive\", \"negative\", \"negative\", \"negative\", \"negative\", \"negative\", \"positive\", \"positive\", \"negative\", \"negative\", \"positive\", \"positive\", \"negative\", \"negative\", \"negative\", \"negative\", \"negative\", \"negative\", \"negative\", \"negative\", \"positive\", \"negative\", \"negative\", \"negative\", \"negative\", \"negative\", \"positive\", \"negative\", \"negative\", \"negative\", \"positive\", \"positive\", \"positive\", \"negative\", \"negative\", \"negative\", \"negative\", \"negative\", \"negative\", \"negative\", \"negative\", \"negative\", \"negative\", \"negative\", \"negative\", \"negative\", \"positive\", \"positive\", \"negative\", \"negative\", \"negative\", \"negative\", \"negative\", \"negative\", \"negative\", \"positive\", \"positive\", \"negative\", \"negative\", \"positive\", \"negative\", \"negative\", \"negative\", \"negative\", \"positive\", \"negative\", \"positive\", \"negative\", \"negative\", \"negative\", \"positive\", \"positive\", \"positive\", \"positive\", \"positive\", \"positive\", \"negative\", \"negative\", \"negative\", \"negative\", \"positive\", \"negative\", \"negative\", \"positive\", \"positive\", \"positive\", \"negative\", \"positive\", \"negative\", \"negative\", \"negative\", \"negative\", \"negative\", \"positive\", \"negative\", \"negative\", \"positive\", \"negative\", \"negative\", \"negative\", \"negative\", \"positive\", \"negative\", \"positive\", \"negative\", \"positive\", \"negative\", \"positive\", \"negative\", \"negative\", \"positive\", \"negative\", \"negative\", \"negative\", \"negative\", \"positive\", \"negative\", \"negative\", \"negative\", \"negative\", \"negative\", \"negative\", \"negative\", \"negative\", \"positive\", \"positive\", \"negative\", \"positive\", \"positive\", \"positive\", \"positive\", \"positive\", \"negative\", \"negative\", \"negative\", \"positive\", \"negative\", \"negative\", \"negative\", \"negative\", \"positive\", \"negative\", \"negative\", \"positive\", \"positive\", \"negative\", \"negative\", \"negative\", \"negative\", \"negative\", \"positive\", \"positive\", \"positive\", \"negative\", \"negative\", \"positive\", \"negative\", \"negative\", \"negative\", \"negative\", \"negative\", \"negative\", \"negative\", \"negative\", \"negative\", \"negative\", \"positive\", \"positive\", \"negative\", \"negative\", \"negative\", \"negative\", \"negative\", \"negative\", \"negative\", \"negative\", \"negative\", \"negative\", \"negative\", \"negative\", \"positive\", \"negative\", \"negative\", \"negative\", \"negative\", \"negative\", \"positive\", \"negative\", \"negative\", \"positive\", \"negative\", \"negative\", \"negative\", \"negative\", \"negative\", \"negative\", \"negative\", \"negative\", \"positive\", \"positive\", \"negative\", \"negative\", \"negative\", \"negative\", \"positive\", \"negative\", \"negative\", \"positive\", \"negative\", \"negative\", \"negative\", \"negative\", \"negative\", \"negative\", \"negative\", \"negative\", \"negative\", \"negative\", \"negative\", \"positive\", \"positive\", \"negative\", \"negative\", \"negative\", \"positive\", \"negative\", \"negative\", \"negative\", \"positive\", \"positive\", \"positive\", \"positive\", \"positive\", \"positive\", \"positive\", \"negative\", \"negative\", \"positive\", \"negative\", \"negative\", \"negative\", \"negative\", \"negative\", \"negative\", \"negative\", \"positive\", \"negative\", \"negative\", \"negative\", \"negative\", \"negative\", \"positive\", \"positive\", \"negative\", \"positive\", \"negative\", \"negative\", \"negative\", \"negative\", \"negative\", \"negative\", \"negative\", \"positive\", \"negative\", \"positive\", \"negative\", \"positive\", \"positive\", \"positive\", \"positive\", \"positive\", \"negative\", \"negative\", \"negative\", \"negative\", \"negative\", \"positive\", \"positive\", \"positive\", \"negative\", \"positive\", \"positive\", \"negative\", \"positive\", \"negative\", \"negative\", \"positive\", \"negative\", \"positive\", \"positive\", \"negative\", \"negative\", \"negative\", \"negative\", \"negative\", \"negative\", \"negative\", \"negative\", \"negative\", \"negative\", \"negative\", \"negative\", \"negative\", \"negative\", \"positive\", \"negative\", \"negative\", \"negative\", \"negative\", \"negative\", \"positive\", \"negative\", \"negative\", \"negative\", \"negative\", \"negative\", \"negative\", \"negative\", \"negative\", \"negative\", \"positive\", \"negative\", \"negative\", \"negative\", \"negative\", \"negative\", \"negative\", \"negative\", \"negative\", \"positive\", \"positive\", \"positive\", \"negative\", \"negative\", \"negative\", \"negative\", \"negative\", \"negative\", \"positive\", \"negative\", \"negative\", \"positive\", \"positive\", \"negative\", \"positive\", \"negative\", \"positive\", \"negative\", \"negative\", \"negative\", \"negative\", \"negative\", \"negative\", \"negative\", \"positive\", \"positive\", \"negative\", \"negative\", \"negative\", \"negative\", \"positive\", \"negative\", \"positive\", \"positive\", \"negative\", \"negative\", \"negative\", \"negative\", \"negative\", \"positive\", \"positive\", \"positive\", \"negative\", \"negative\", \"negative\", \"negative\", \"negative\", \"negative\", \"negative\", \"positive\", \"negative\", \"positive\", \"negative\", \"negative\", \"negative\", \"positive\", \"positive\", \"negative\", \"positive\", \"negative\", \"positive\", \"negative\", \"negative\", \"positive\", \"negative\", \"positive\", \"positive\", \"negative\", \"negative\", \"negative\", \"negative\", \"positive\", \"negative\", \"positive\", \"positive\", \"negative\", \"negative\", \"negative\", \"negative\", \"positive\", \"positive\", \"positive\", \"negative\", \"negative\", \"positive\", \"negative\", \"negative\", \"positive\", \"negative\", \"negative\", \"negative\", \"negative\", \"negative\", \"negative\", \"negative\", \"negative\", \"negative\", \"negative\", \"negative\", \"positive\", \"positive\", \"negative\", \"negative\", \"negative\", \"positive\", \"positive\", \"negative\", \"negative\", \"negative\", \"negative\", \"positive\", \"negative\", \"positive\", \"positive\", \"positive\", \"positive\", \"positive\", \"positive\", \"negative\", \"negative\", \"negative\", \"positive\", \"negative\", \"negative\", \"negative\", \"negative\", \"negative\", \"negative\", \"negative\", \"negative\", \"negative\", \"negative\", \"positive\", \"negative\", \"negative\", \"positive\", \"positive\", \"negative\", \"negative\", \"negative\", \"negative\", \"negative\", \"positive\", \"negative\", \"positive\", \"positive\", \"negative\", \"positive\", \"negative\", \"positive\", \"negative\", \"positive\", \"negative\", \"negative\", \"negative\", \"positive\", \"negative\", \"negative\", \"negative\", \"negative\", \"negative\", \"positive\", \"positive\", \"positive\", \"positive\", \"positive\", \"positive\", \"negative\", \"positive\", \"positive\", \"positive\", \"negative\", \"negative\", \"positive\", \"positive\", \"positive\", \"positive\", \"positive\", \"positive\", \"negative\", \"negative\", \"negative\", \"negative\", \"positive\", \"negative\", \"negative\", \"negative\", \"positive\", \"positive\", \"negative\", \"negative\", \"positive\", \"positive\", \"positive\", \"negative\", \"negative\", \"negative\", \"positive\", \"negative\", \"negative\", \"negative\", \"negative\", \"negative\", \"negative\", \"negative\", \"positive\", \"negative\", \"negative\", \"negative\", \"negative\", \"negative\", \"positive\", \"negative\", \"negative\", \"negative\", \"positive\", \"positive\", \"positive\", \"positive\", \"negative\", \"negative\", \"negative\", \"negative\", \"negative\", \"positive\", \"negative\", \"negative\", \"negative\", \"negative\", \"negative\", \"positive\", \"negative\", \"negative\", \"negative\", \"positive\", \"negative\", \"negative\", \"positive\", \"negative\", \"positive\", \"negative\", \"negative\", \"negative\", \"negative\", \"negative\", \"negative\", \"negative\", \"negative\", \"negative\", \"negative\", \"negative\", \"negative\", \"negative\", \"negative\", \"positive\", \"negative\", \"positive\", \"negative\", \"positive\", \"positive\", \"negative\", \"positive\", \"positive\", \"positive\", \"positive\", \"negative\", \"negative\", \"negative\", \"negative\", \"negative\", \"negative\", \"negative\", \"negative\", \"negative\", \"negative\", \"negative\", \"positive\", \"negative\", \"negative\", \"negative\", \"negative\", \"negative\", \"negative\", \"negative\", \"positive\", \"positive\", \"positive\", \"negative\", \"negative\", \"negative\", \"negative\", \"negative\", \"negative\", \"negative\", \"negative\", \"positive\", \"negative\", \"negative\", \"negative\", \"negative\", \"negative\", \"negative\", \"negative\", \"positive\", \"positive\", \"negative\", \"positive\", \"positive\", \"negative\", \"positive\", \"positive\", \"positive\", \"negative\", \"positive\", \"negative\", \"positive\", \"positive\", \"negative\", \"negative\", \"negative\", \"negative\", \"negative\", \"negative\", \"positive\", \"negative\", \"negative\", \"positive\", \"positive\", \"negative\", \"positive\", \"positive\", \"negative\", \"negative\", \"negative\", \"negative\", \"negative\", \"negative\", \"negative\", \"positive\", \"negative\", \"negative\", \"positive\", \"negative\", \"negative\", \"positive\", \"negative\", \"negative\", \"positive\", \"negative\", \"negative\", \"negative\", \"positive\", \"positive\", \"negative\", \"negative\", \"negative\", \"negative\", \"positive\", \"positive\", \"positive\", \"negative\", \"negative\", \"negative\", \"negative\", \"negative\", \"negative\", \"negative\", \"positive\", \"positive\", \"negative\", \"negative\", \"negative\", \"negative\", \"negative\", \"negative\", \"negative\", \"negative\", \"negative\", \"negative\", \"positive\", \"negative\", \"positive\", \"negative\", \"negative\", \"positive\", \"negative\", \"negative\", \"negative\", \"positive\", \"negative\", \"negative\", \"negative\", \"negative\", \"negative\", \"negative\", \"positive\", \"negative\", \"negative\", \"negative\", \"negative\", \"negative\", \"positive\", \"negative\", \"positive\", \"negative\", \"negative\", \"negative\", \"negative\", \"negative\", \"negative\", \"negative\", \"negative\", \"negative\", \"positive\", \"negative\", \"negative\", \"negative\", \"negative\", \"negative\", \"negative\", \"negative\", \"positive\", \"negative\", \"negative\", \"positive\", \"negative\", \"negative\", \"negative\", \"negative\", \"negative\", \"negative\", \"negative\", \"positive\", \"positive\", \"positive\", \"negative\", \"positive\", \"negative\", \"negative\", \"negative\", \"negative\", \"negative\", \"negative\", \"negative\", \"negative\", \"negative\", \"positive\", \"negative\", \"negative\", \"positive\"], \"xaxis\": \"x\", \"yaxis\": \"y\"}],\n",
       "                        {\"barmode\": \"relative\", \"legend\": {\"tracegroupgap\": 0}, \"margin\": {\"t\": 60}, \"template\": {\"data\": {\"bar\": [{\"error_x\": {\"color\": \"#2a3f5f\"}, \"error_y\": {\"color\": \"#2a3f5f\"}, \"marker\": {\"line\": {\"color\": \"#E5ECF6\", \"width\": 0.5}}, \"type\": \"bar\"}], \"barpolar\": [{\"marker\": {\"line\": {\"color\": \"#E5ECF6\", \"width\": 0.5}}, \"type\": \"barpolar\"}], \"carpet\": [{\"aaxis\": {\"endlinecolor\": \"#2a3f5f\", \"gridcolor\": \"white\", \"linecolor\": \"white\", \"minorgridcolor\": \"white\", \"startlinecolor\": \"#2a3f5f\"}, \"baxis\": {\"endlinecolor\": \"#2a3f5f\", \"gridcolor\": \"white\", \"linecolor\": \"white\", \"minorgridcolor\": \"white\", \"startlinecolor\": \"#2a3f5f\"}, \"type\": \"carpet\"}], \"choropleth\": [{\"colorbar\": {\"outlinewidth\": 0, \"ticks\": \"\"}, \"type\": \"choropleth\"}], \"contour\": [{\"colorbar\": {\"outlinewidth\": 0, \"ticks\": \"\"}, \"colorscale\": [[0.0, \"#0d0887\"], [0.1111111111111111, \"#46039f\"], [0.2222222222222222, \"#7201a8\"], [0.3333333333333333, \"#9c179e\"], [0.4444444444444444, \"#bd3786\"], [0.5555555555555556, \"#d8576b\"], [0.6666666666666666, \"#ed7953\"], [0.7777777777777778, \"#fb9f3a\"], [0.8888888888888888, \"#fdca26\"], [1.0, \"#f0f921\"]], \"type\": \"contour\"}], \"contourcarpet\": [{\"colorbar\": {\"outlinewidth\": 0, \"ticks\": \"\"}, \"type\": \"contourcarpet\"}], \"heatmap\": [{\"colorbar\": {\"outlinewidth\": 0, \"ticks\": \"\"}, \"colorscale\": [[0.0, \"#0d0887\"], [0.1111111111111111, \"#46039f\"], [0.2222222222222222, \"#7201a8\"], [0.3333333333333333, \"#9c179e\"], [0.4444444444444444, \"#bd3786\"], [0.5555555555555556, \"#d8576b\"], [0.6666666666666666, \"#ed7953\"], [0.7777777777777778, \"#fb9f3a\"], [0.8888888888888888, \"#fdca26\"], [1.0, \"#f0f921\"]], \"type\": \"heatmap\"}], \"heatmapgl\": [{\"colorbar\": {\"outlinewidth\": 0, \"ticks\": \"\"}, \"colorscale\": [[0.0, \"#0d0887\"], [0.1111111111111111, \"#46039f\"], [0.2222222222222222, \"#7201a8\"], [0.3333333333333333, \"#9c179e\"], [0.4444444444444444, \"#bd3786\"], [0.5555555555555556, \"#d8576b\"], [0.6666666666666666, \"#ed7953\"], [0.7777777777777778, \"#fb9f3a\"], [0.8888888888888888, \"#fdca26\"], [1.0, \"#f0f921\"]], \"type\": \"heatmapgl\"}], \"histogram\": [{\"marker\": {\"colorbar\": {\"outlinewidth\": 0, \"ticks\": \"\"}}, \"type\": \"histogram\"}], \"histogram2d\": [{\"colorbar\": {\"outlinewidth\": 0, \"ticks\": \"\"}, \"colorscale\": [[0.0, \"#0d0887\"], [0.1111111111111111, \"#46039f\"], [0.2222222222222222, \"#7201a8\"], [0.3333333333333333, \"#9c179e\"], [0.4444444444444444, \"#bd3786\"], [0.5555555555555556, \"#d8576b\"], [0.6666666666666666, \"#ed7953\"], [0.7777777777777778, \"#fb9f3a\"], [0.8888888888888888, \"#fdca26\"], [1.0, \"#f0f921\"]], \"type\": \"histogram2d\"}], \"histogram2dcontour\": [{\"colorbar\": {\"outlinewidth\": 0, \"ticks\": \"\"}, \"colorscale\": [[0.0, \"#0d0887\"], [0.1111111111111111, \"#46039f\"], [0.2222222222222222, \"#7201a8\"], [0.3333333333333333, \"#9c179e\"], [0.4444444444444444, \"#bd3786\"], [0.5555555555555556, \"#d8576b\"], [0.6666666666666666, \"#ed7953\"], [0.7777777777777778, \"#fb9f3a\"], [0.8888888888888888, \"#fdca26\"], [1.0, \"#f0f921\"]], \"type\": \"histogram2dcontour\"}], \"mesh3d\": [{\"colorbar\": {\"outlinewidth\": 0, \"ticks\": \"\"}, \"type\": \"mesh3d\"}], \"parcoords\": [{\"line\": {\"colorbar\": {\"outlinewidth\": 0, \"ticks\": \"\"}}, \"type\": \"parcoords\"}], \"pie\": [{\"automargin\": true, \"type\": \"pie\"}], \"scatter\": [{\"marker\": {\"colorbar\": {\"outlinewidth\": 0, \"ticks\": \"\"}}, \"type\": \"scatter\"}], \"scatter3d\": [{\"line\": {\"colorbar\": {\"outlinewidth\": 0, \"ticks\": \"\"}}, \"marker\": {\"colorbar\": {\"outlinewidth\": 0, \"ticks\": \"\"}}, \"type\": \"scatter3d\"}], \"scattercarpet\": [{\"marker\": {\"colorbar\": {\"outlinewidth\": 0, \"ticks\": \"\"}}, \"type\": \"scattercarpet\"}], \"scattergeo\": [{\"marker\": {\"colorbar\": {\"outlinewidth\": 0, \"ticks\": \"\"}}, \"type\": \"scattergeo\"}], \"scattergl\": [{\"marker\": {\"colorbar\": {\"outlinewidth\": 0, \"ticks\": \"\"}}, \"type\": \"scattergl\"}], \"scattermapbox\": [{\"marker\": {\"colorbar\": {\"outlinewidth\": 0, \"ticks\": \"\"}}, \"type\": \"scattermapbox\"}], \"scatterpolar\": [{\"marker\": {\"colorbar\": {\"outlinewidth\": 0, \"ticks\": \"\"}}, \"type\": \"scatterpolar\"}], \"scatterpolargl\": [{\"marker\": {\"colorbar\": {\"outlinewidth\": 0, \"ticks\": \"\"}}, \"type\": \"scatterpolargl\"}], \"scatterternary\": [{\"marker\": {\"colorbar\": {\"outlinewidth\": 0, \"ticks\": \"\"}}, \"type\": \"scatterternary\"}], \"surface\": [{\"colorbar\": {\"outlinewidth\": 0, \"ticks\": \"\"}, \"colorscale\": [[0.0, \"#0d0887\"], [0.1111111111111111, \"#46039f\"], [0.2222222222222222, \"#7201a8\"], [0.3333333333333333, \"#9c179e\"], [0.4444444444444444, \"#bd3786\"], [0.5555555555555556, \"#d8576b\"], [0.6666666666666666, \"#ed7953\"], [0.7777777777777778, \"#fb9f3a\"], [0.8888888888888888, \"#fdca26\"], [1.0, \"#f0f921\"]], \"type\": \"surface\"}], \"table\": [{\"cells\": {\"fill\": {\"color\": \"#EBF0F8\"}, \"line\": {\"color\": \"white\"}}, \"header\": {\"fill\": {\"color\": \"#C8D4E3\"}, \"line\": {\"color\": \"white\"}}, \"type\": \"table\"}]}, \"layout\": {\"annotationdefaults\": {\"arrowcolor\": \"#2a3f5f\", \"arrowhead\": 0, \"arrowwidth\": 1}, \"coloraxis\": {\"colorbar\": {\"outlinewidth\": 0, \"ticks\": \"\"}}, \"colorscale\": {\"diverging\": [[0, \"#8e0152\"], [0.1, \"#c51b7d\"], [0.2, \"#de77ae\"], [0.3, \"#f1b6da\"], [0.4, \"#fde0ef\"], [0.5, \"#f7f7f7\"], [0.6, \"#e6f5d0\"], [0.7, \"#b8e186\"], [0.8, \"#7fbc41\"], [0.9, \"#4d9221\"], [1, \"#276419\"]], \"sequential\": [[0.0, \"#0d0887\"], [0.1111111111111111, \"#46039f\"], [0.2222222222222222, \"#7201a8\"], [0.3333333333333333, \"#9c179e\"], [0.4444444444444444, \"#bd3786\"], [0.5555555555555556, \"#d8576b\"], [0.6666666666666666, \"#ed7953\"], [0.7777777777777778, \"#fb9f3a\"], [0.8888888888888888, \"#fdca26\"], [1.0, \"#f0f921\"]], \"sequentialminus\": [[0.0, \"#0d0887\"], [0.1111111111111111, \"#46039f\"], [0.2222222222222222, \"#7201a8\"], [0.3333333333333333, \"#9c179e\"], [0.4444444444444444, \"#bd3786\"], [0.5555555555555556, \"#d8576b\"], [0.6666666666666666, \"#ed7953\"], [0.7777777777777778, \"#fb9f3a\"], [0.8888888888888888, \"#fdca26\"], [1.0, \"#f0f921\"]]}, \"colorway\": [\"#636efa\", \"#EF553B\", \"#00cc96\", \"#ab63fa\", \"#FFA15A\", \"#19d3f3\", \"#FF6692\", \"#B6E880\", \"#FF97FF\", \"#FECB52\"], \"font\": {\"color\": \"#2a3f5f\"}, \"geo\": {\"bgcolor\": \"white\", \"lakecolor\": \"white\", \"landcolor\": \"#E5ECF6\", \"showlakes\": true, \"showland\": true, \"subunitcolor\": \"white\"}, \"hoverlabel\": {\"align\": \"left\"}, \"hovermode\": \"closest\", \"mapbox\": {\"style\": \"light\"}, \"paper_bgcolor\": \"white\", \"plot_bgcolor\": \"#E5ECF6\", \"polar\": {\"angularaxis\": {\"gridcolor\": \"white\", \"linecolor\": \"white\", \"ticks\": \"\"}, \"bgcolor\": \"#E5ECF6\", \"radialaxis\": {\"gridcolor\": \"white\", \"linecolor\": \"white\", \"ticks\": \"\"}}, \"scene\": {\"xaxis\": {\"backgroundcolor\": \"#E5ECF6\", \"gridcolor\": \"white\", \"gridwidth\": 2, \"linecolor\": \"white\", \"showbackground\": true, \"ticks\": \"\", \"zerolinecolor\": \"white\"}, \"yaxis\": {\"backgroundcolor\": \"#E5ECF6\", \"gridcolor\": \"white\", \"gridwidth\": 2, \"linecolor\": \"white\", \"showbackground\": true, \"ticks\": \"\", \"zerolinecolor\": \"white\"}, \"zaxis\": {\"backgroundcolor\": \"#E5ECF6\", \"gridcolor\": \"white\", \"gridwidth\": 2, \"linecolor\": \"white\", \"showbackground\": true, \"ticks\": \"\", \"zerolinecolor\": \"white\"}}, \"shapedefaults\": {\"line\": {\"color\": \"#2a3f5f\"}}, \"ternary\": {\"aaxis\": {\"gridcolor\": \"white\", \"linecolor\": \"white\", \"ticks\": \"\"}, \"baxis\": {\"gridcolor\": \"white\", \"linecolor\": \"white\", \"ticks\": \"\"}, \"bgcolor\": \"#E5ECF6\", \"caxis\": {\"gridcolor\": \"white\", \"linecolor\": \"white\", \"ticks\": \"\"}}, \"title\": {\"x\": 0.05}, \"xaxis\": {\"automargin\": true, \"gridcolor\": \"white\", \"linecolor\": \"white\", \"ticks\": \"\", \"title\": {\"standoff\": 15}, \"zerolinecolor\": \"white\", \"zerolinewidth\": 2}, \"yaxis\": {\"automargin\": true, \"gridcolor\": \"white\", \"linecolor\": \"white\", \"ticks\": \"\", \"title\": {\"standoff\": 15}, \"zerolinecolor\": \"white\", \"zerolinewidth\": 2}}}, \"xaxis\": {\"anchor\": \"y\", \"domain\": [0.0, 1.0], \"title\": {\"text\": \"PredictedClass\"}}, \"yaxis\": {\"anchor\": \"x\", \"domain\": [0.0, 1.0], \"title\": {\"text\": \"count\"}}},\n",
       "                        {\"responsive\": true}\n",
       "                    ).then(function(){\n",
       "                            \n",
       "var gd = document.getElementById('7c169b51-24d3-4ee6-93f8-ff68749f89c6');\n",
       "var x = new MutationObserver(function (mutations, observer) {{\n",
       "        var display = window.getComputedStyle(gd).display;\n",
       "        if (!display || display === 'none') {{\n",
       "            console.log([gd, 'removed!']);\n",
       "            Plotly.purge(gd);\n",
       "            observer.disconnect();\n",
       "        }}\n",
       "}});\n",
       "\n",
       "// Listen for the removal of the full notebook cells\n",
       "var notebookContainer = gd.closest('#notebook-container');\n",
       "if (notebookContainer) {{\n",
       "    x.observe(notebookContainer, {childList: true});\n",
       "}}\n",
       "\n",
       "// Listen for the clearing of the current output cell\n",
       "var outputEl = gd.closest('.output');\n",
       "if (outputEl) {{\n",
       "    x.observe(outputEl, {childList: true});\n",
       "}}\n",
       "\n",
       "                        })\n",
       "                };\n",
       "                \n",
       "            </script>\n",
       "        </div>\n",
       "</body>\n",
       "</html>"
      ]
     },
     "metadata": {
      "tags": []
     },
     "output_type": "display_data"
    }
   ],
   "source": [
    "import plotly.express as px\n",
    "fig = px.histogram(classes_df, x='PredictedClass')\n",
    "fig.show()"
   ]
  },
  {
   "cell_type": "code",
   "execution_count": 44,
   "metadata": {
    "colab": {
     "base_uri": "https://localhost:8080/",
     "height": 154
    },
    "id": "em15PNsAm_pa",
    "outputId": "210c558d-d08c-45de-f53b-9a8a6f094800"
   },
   "outputs": [
    {
     "data": {
      "application/vnd.google.colaboratory.intrinsic+json": {
       "type": "string"
      },
      "text/plain": [
       "'CoStar Group.  The Jewel-Osco store in Woodlawn..  Less than a year after opening, the Jewel-Osco in Woodlawn has a new owner: the University of Chicago..  A venture connected to the university paid $19.8 million in November for the 48,000-square-foot grocery-and-drug store at 61st Street and Cottage Grove Avenue, according to a deed filed with Cook County. The venture acquired the store from the developers that built it, Chicago-based DL3 Realty and Wilmette-based Terraco Real Estate..  The store, which is leased to Jewel-Osco parent Albertsons, became a symbol of Woodlawn’s comeback when it opened last March, bringing fresh produce and other healthy food options to a South Side “food desert,” providing jobs for more than 200 people and generating momentum for a broader community-development push in the neighborhood..  The sale also validates the idea that Woodlawn offers attractive returns for investors that put their capital into commercial properties there, said DL3 Managing Partner Leon Walker..  “As this investment helps the market stabilize, it encourages other (businesses) to see Woodlawn as a place of opportunity,” he said..  Yet the deal still needed a subsidy to work out. DL3 and Terraco financed the Jewel-Osco project, which cost more than $20 million, with $11.5 million in New Markets Tax Credits acquired by Northern Trust..  Walker declined to get into financial specifics but said the project generated a good return for its investors even though the $19.8 million sale price fell short of its total cost..  The University of Chicago considered the Jewel-Osco “an important community asset and decided to purchase the property to ensure that it remains locally controlled rather than going to a national buyer,” university spokesman Jeremy Manier wrote in an email..  “The University is committed to making sure the store remains a valuable resource for the community, similar to other commercial properties that the university owns in the area,” he wrote..  The university financed its acquisition with a $14.8 million loan from Beverly Bank & Trust, according to a mortgage filed with the county..  Brokerage Greenstone Partners arranged the sale. Greg Dietz, managing partner in Greenstone’s Chicago office, said a confidentiality agreement prevented him from discussing the transaction..  Just south of thriving Hyde Park, Woodlawn has started to attract investment after decades of population loss and decay. One big project has received the lion’s share of the attention: the proposed Obama Presidential Center in Jackson Park, on the east end of the neighborhood..  But plenty of dollars are flowing in from other sources. Preservation of Affordable Housing, a Boston nonprofit, has invested heavily in Woodlawn, with properties including Woodlawn Station, a 70-unit apartment project at Cottage Grove and 63rd Street that opened in 2018..  DL3 may be best known in Chicago for developing Englewood Square, a shopping center in Englewood anchored by a Whole Foods Market. But the firm has been busy in Woodlawn. DL3 is working on a 72,000-square-foot office-and-retail project on the site of the current Washington Park National Bank Building, also at Cottage Grove and 63rd. At another corner on the intersection, DL3 plans a 42,000-square-foot building that will include medical office space and a fitness center..  The increased investment has fueled concerns about potential gentrification, as rising apartment rents push people out. Parts of the neighborhood east of Cottage Grove are vulnerable to displacement because of significantly rising prices, according to the Institute for Housing Studies at DePaul University. Letter to the Editor.  Have something to get off your chest? You can send us an email. Or tell us on our Facebook page or on Twitter, @CrainsChicago. RECOMMENDED FOR YOU'"
      ]
     },
     "execution_count": 44,
     "metadata": {
      "tags": []
     },
     "output_type": "execute_result"
    }
   ],
   "source": [
    "classes_df['Text'].iloc[14]"
   ]
  },
  {
   "cell_type": "code",
   "execution_count": 85,
   "metadata": {
    "colab": {
     "base_uri": "https://localhost:8080/"
    },
    "id": "KG4yt1eHJr1G",
    "outputId": "a3641b01-99d6-4ddd-d6fd-0d1866681d8a"
   },
   "outputs": [
    {
     "name": "stderr",
     "output_type": "stream",
     "text": [
      "/usr/local/lib/python3.6/dist-packages/pandas/core/frame.py:4174: SettingWithCopyWarning:\n",
      "\n",
      "\n",
      "A value is trying to be set on a copy of a slice from a DataFrame\n",
      "\n",
      "See the caveats in the documentation: https://pandas.pydata.org/pandas-docs/stable/user_guide/indexing.html#returning-a-view-versus-a-copy\n",
      "\n"
     ]
    }
   ],
   "source": [
    "top_sentiment = classes_df[classes_df['TopScore'] > .79]\n",
    "top_sentiment.drop(['Scores','Classes'],axis=1,inplace=True)"
   ]
  },
  {
   "cell_type": "code",
   "execution_count": 86,
   "metadata": {
    "colab": {
     "base_uri": "https://localhost:8080/"
    },
    "id": "eFXrcvFgM4kO",
    "outputId": "3f8f4c14-12e2-49f8-9614-2b4ef30f9ed5"
   },
   "outputs": [
    {
     "data": {
      "text/plain": [
       "(226, 3)"
      ]
     },
     "execution_count": 86,
     "metadata": {
      "tags": []
     },
     "output_type": "execute_result"
    }
   ],
   "source": [
    "top_sentiment.shape"
   ]
  },
  {
   "cell_type": "code",
   "execution_count": 87,
   "metadata": {
    "colab": {
     "base_uri": "https://localhost:8080/",
     "height": 529
    },
    "id": "hJYaNnCGJNeS",
    "outputId": "d9c7581b-143d-430b-cc04-cfa6a2d80dcc"
   },
   "outputs": [
    {
     "data": {
      "text/html": [
       "<div>\n",
       "<style scoped>\n",
       "    .dataframe tbody tr th:only-of-type {\n",
       "        vertical-align: middle;\n",
       "    }\n",
       "\n",
       "    .dataframe tbody tr th {\n",
       "        vertical-align: top;\n",
       "    }\n",
       "\n",
       "    .dataframe thead th {\n",
       "        text-align: right;\n",
       "    }\n",
       "</style>\n",
       "<table border=\"1\" class=\"dataframe\">\n",
       "  <thead>\n",
       "    <tr style=\"text-align: right;\">\n",
       "      <th></th>\n",
       "      <th>Text</th>\n",
       "      <th>PredictedClass</th>\n",
       "      <th>TopScore</th>\n",
       "    </tr>\n",
       "  </thead>\n",
       "  <tbody>\n",
       "    <tr>\n",
       "      <th>1070</th>\n",
       "      <td>Rev. Jesse L. Jackson, Sr. and the Rainbow PUSH Coalition staff are holding an 11:30 a.m. press conference Wednesday, December 4 th , at the Village Hall (Church of the Cross), 13043 E. 2260 South...</td>\n",
       "      <td>negative</td>\n",
       "      <td>0.803360</td>\n",
       "    </tr>\n",
       "    <tr>\n",
       "      <th>905</th>\n",
       "      <td>Units: Thousands of Persons , Notes: The Federal seasonally adjusts this series by using the 'statsmodel' library from Python with default parameter settings. The package uses the U.S. Bureau of t...</td>\n",
       "      <td>negative</td>\n",
       "      <td>0.911295</td>\n",
       "    </tr>\n",
       "    <tr>\n",
       "      <th>1176</th>\n",
       "      <td>January 7, 2020 WAKO News.  U.S. Census data released this past week indicates that the state of Illinois led the nation in population loss in the last 10 years. The state has lost nearly 160,000 ...</td>\n",
       "      <td>negative</td>\n",
       "      <td>0.986165</td>\n",
       "    </tr>\n",
       "    <tr>\n",
       "      <th>319</th>\n",
       "      <td>Units: Hours per Week , Seasonally Notes: The Federal Reserve Bank of St. Louis seasonally adjusts this series by using the 'statsmodel' library from Python with default parameter settings. The pa...</td>\n",
       "      <td>negative</td>\n",
       "      <td>0.888697</td>\n",
       "    </tr>\n",
       "    <tr>\n",
       "      <th>952</th>\n",
       "      <td>SPRINGFIELD — A fellow sat down next to me Saturday on a flight from San Antonio to Chicago and let out a sigh..  I asked if he was heading home, and he just shook his head and explained he is in ...</td>\n",
       "      <td>negative</td>\n",
       "      <td>0.894286</td>\n",
       "    </tr>\n",
       "    <tr>\n",
       "      <th>1433</th>\n",
       "      <td>Food Insecurity On the Rise Across US, Chicago Amid COVID-19 Marissa Nelson | September 21, 2020 5:44 pm.  (Courtesy of the Greater Chicago Food Depository).  Food insecurity is on the rise as the...</td>\n",
       "      <td>negative</td>\n",
       "      <td>0.853633</td>\n",
       "    </tr>\n",
       "    <tr>\n",
       "      <th>898</th>\n",
       "      <td>Widely overlooked in the last U.S census estimates for 2018-2019 was that the population of Chicago was at about 2,693,000. That is pretty much on par with the 2010 U.S census of 2,695,000, though...</td>\n",
       "      <td>negative</td>\n",
       "      <td>0.859863</td>\n",
       "    </tr>\n",
       "    <tr>\n",
       "      <th>32</th>\n",
       "      <td>.  As part of Governor JB Pritzker's historic $45 billion capital program, the Department of Commerce and Economic Opportunity (DCEO) announced on Jan. 27th a new initiative to invest $12 million ...</td>\n",
       "      <td>positive</td>\n",
       "      <td>0.866185</td>\n",
       "    </tr>\n",
       "    <tr>\n",
       "      <th>463</th>\n",
       "      <td>The coronavirus outbreak has put a damper on the 2020 census, which now has been extended until April of 2021..  Sherrie Taylor, the Interim Lead of the Illinois Data Center Network for the census...</td>\n",
       "      <td>negative</td>\n",
       "      <td>0.868127</td>\n",
       "    </tr>\n",
       "    <tr>\n",
       "      <th>509</th>\n",
       "      <td>An analysis of population trends now suggests Illinois will only lose one seat in Congress. Illinois has lost tens of thousands in total population count since 2010, when the last U.S. Census coun...</td>\n",
       "      <td>negative</td>\n",
       "      <td>0.935819</td>\n",
       "    </tr>\n",
       "  </tbody>\n",
       "</table>\n",
       "</div>"
      ],
      "text/plain": [
       "                                                                                                                                                                                                         Text  ...  TopScore\n",
       "1070  Rev. Jesse L. Jackson, Sr. and the Rainbow PUSH Coalition staff are holding an 11:30 a.m. press conference Wednesday, December 4 th , at the Village Hall (Church of the Cross), 13043 E. 2260 South...  ...  0.803360\n",
       "905   Units: Thousands of Persons , Notes: The Federal seasonally adjusts this series by using the 'statsmodel' library from Python with default parameter settings. The package uses the U.S. Bureau of t...  ...  0.911295\n",
       "1176  January 7, 2020 WAKO News.  U.S. Census data released this past week indicates that the state of Illinois led the nation in population loss in the last 10 years. The state has lost nearly 160,000 ...  ...  0.986165\n",
       "319   Units: Hours per Week , Seasonally Notes: The Federal Reserve Bank of St. Louis seasonally adjusts this series by using the 'statsmodel' library from Python with default parameter settings. The pa...  ...  0.888697\n",
       "952   SPRINGFIELD — A fellow sat down next to me Saturday on a flight from San Antonio to Chicago and let out a sigh..  I asked if he was heading home, and he just shook his head and explained he is in ...  ...  0.894286\n",
       "1433  Food Insecurity On the Rise Across US, Chicago Amid COVID-19 Marissa Nelson | September 21, 2020 5:44 pm.  (Courtesy of the Greater Chicago Food Depository).  Food insecurity is on the rise as the...  ...  0.853633\n",
       "898   Widely overlooked in the last U.S census estimates for 2018-2019 was that the population of Chicago was at about 2,693,000. That is pretty much on par with the 2010 U.S census of 2,695,000, though...  ...  0.859863\n",
       "32    .  As part of Governor JB Pritzker's historic $45 billion capital program, the Department of Commerce and Economic Opportunity (DCEO) announced on Jan. 27th a new initiative to invest $12 million ...  ...  0.866185\n",
       "463   The coronavirus outbreak has put a damper on the 2020 census, which now has been extended until April of 2021..  Sherrie Taylor, the Interim Lead of the Illinois Data Center Network for the census...  ...  0.868127\n",
       "509   An analysis of population trends now suggests Illinois will only lose one seat in Congress. Illinois has lost tens of thousands in total population count since 2010, when the last U.S. Census coun...  ...  0.935819\n",
       "\n",
       "[10 rows x 3 columns]"
      ]
     },
     "execution_count": 87,
     "metadata": {
      "tags": []
     },
     "output_type": "execute_result"
    }
   ],
   "source": [
    "top_sentiment.sample(10)"
   ]
  },
  {
   "cell_type": "code",
   "execution_count": 88,
   "metadata": {
    "colab": {
     "base_uri": "https://localhost:8080/",
     "height": 769
    },
    "id": "FjcStruZR3Vj",
    "outputId": "c17fb1c4-36c5-40e5-8996-04c1e003fc5b"
   },
   "outputs": [
    {
     "data": {
      "text/html": [
       "<div>\n",
       "<style scoped>\n",
       "    .dataframe tbody tr th:only-of-type {\n",
       "        vertical-align: middle;\n",
       "    }\n",
       "\n",
       "    .dataframe tbody tr th {\n",
       "        vertical-align: top;\n",
       "    }\n",
       "\n",
       "    .dataframe thead th {\n",
       "        text-align: right;\n",
       "    }\n",
       "</style>\n",
       "<table border=\"1\" class=\"dataframe\">\n",
       "  <thead>\n",
       "    <tr style=\"text-align: right;\">\n",
       "      <th></th>\n",
       "      <th>Text</th>\n",
       "      <th>PredictedClass</th>\n",
       "      <th>TopScore</th>\n",
       "    </tr>\n",
       "  </thead>\n",
       "  <tbody>\n",
       "    <tr>\n",
       "      <th>32</th>\n",
       "      <td>.  As part of Governor JB Pritzker's historic $45 billion capital program, the Department of Commerce and Economic Opportunity (DCEO) announced on Jan. 27th a new initiative to invest $12 million ...</td>\n",
       "      <td>positive</td>\n",
       "      <td>0.866185</td>\n",
       "    </tr>\n",
       "    <tr>\n",
       "      <th>52</th>\n",
       "      <td>12 hours ago | Tom Houghton.  Chicago wheat futures rallied to their highest level in five years Tuesday as a cocktail of dry weather in key growing... To read this article and see the full servic...</td>\n",
       "      <td>positive</td>\n",
       "      <td>0.880162</td>\n",
       "    </tr>\n",
       "    <tr>\n",
       "      <th>63</th>\n",
       "      <td>20 City of Chicago Grants Funds to Boost Census Participation City of Chicago Grants Funds to Boost Census Participation City of Chicago Grants Funds to Boost Census Participation.  Mayor Lori E....</td>\n",
       "      <td>positive</td>\n",
       "      <td>0.876394</td>\n",
       "    </tr>\n",
       "    <tr>\n",
       "      <th>123</th>\n",
       "      <td>Paint the City appears headed for even greater heights as it has been included in the City of Chicago’s “Boards of Change” project–a civic engagement initiative encouraging local participation in ...</td>\n",
       "      <td>positive</td>\n",
       "      <td>0.817152</td>\n",
       "    </tr>\n",
       "    <tr>\n",
       "      <th>127</th>\n",
       "      <td>Paint the City appears headed for even greater heights as it has been included in the City of Chicago's 'Boards of Change' project'a civic engagement initiative encouraging local participation in ...</td>\n",
       "      <td>positive</td>\n",
       "      <td>0.975868</td>\n",
       "    </tr>\n",
       "    <tr>\n",
       "      <th>251</th>\n",
       "      <td>Description Mercer has an exciting opportunity available and is recruiting for a solid and experienced Senior Retirement Consultant.What can you expect?If you like the idea of helping clients achi...</td>\n",
       "      <td>positive</td>\n",
       "      <td>0.799844</td>\n",
       "    </tr>\n",
       "    <tr>\n",
       "      <th>581</th>\n",
       "      <td>29 Education Legislative Latino Caucus Foundation to Hold Annual Conference Legislative Latino Caucus Foundation to Hold Annual Conference Education | Comments Off on Legislative Latino Caucus Fo...</td>\n",
       "      <td>positive</td>\n",
       "      <td>0.810283</td>\n",
       "    </tr>\n",
       "    <tr>\n",
       "      <th>605</th>\n",
       "      <td>.  Alec Blanc of Monarch Advisors announced the successful closing of a bank refinance for a 99- central Illinois. April closings have been few and far between, so, well done Mr. Blanc..  Built in...</td>\n",
       "      <td>positive</td>\n",
       "      <td>0.960814</td>\n",
       "    </tr>\n",
       "    <tr>\n",
       "      <th>865</th>\n",
       "      <td>Wheat commentary: Chicago hits 4 1/2 month high as rally persists 1 hour ago.  The roll into a new month saw no let-up in the recent risk-on attitude for wheat, with the Chicago contract leaping.....</td>\n",
       "      <td>positive</td>\n",
       "      <td>0.880790</td>\n",
       "    </tr>\n",
       "    <tr>\n",
       "      <th>893</th>\n",
       "      <td>Message of unity ahead of Memorial Day, and effort to bridge gap between Chicago's south and west sides WLS Share: Share: CHICAGO (WLS) -- Now is usually a popular time for communities to focus on...</td>\n",
       "      <td>positive</td>\n",
       "      <td>0.812772</td>\n",
       "    </tr>\n",
       "    <tr>\n",
       "      <th>945</th>\n",
       "      <td>Wheat commentary: Chicago hits 13-week high on China rumours 55 minutes ago.  Chicago wheat jumped 3.5% higher Wednesday to its highest in 13 weeks on market talk of China buying US SRW after... T...</td>\n",
       "      <td>positive</td>\n",
       "      <td>0.855180</td>\n",
       "    </tr>\n",
       "    <tr>\n",
       "      <th>1231</th>\n",
       "      <td>NORTH CHICAGO – The city of North Chicago is leading the way among the state’s municipalities in its unique and innovative approach to Census outreach with its #NorthChicagoCounts campaign..  The ...</td>\n",
       "      <td>positive</td>\n",
       "      <td>0.842456</td>\n",
       "    </tr>\n",
       "    <tr>\n",
       "      <th>1328</th>\n",
       "      <td>Images.  Dear students, faculty and staff:.  With an election rapidly approaching and the 2020 census drawing to a conclusion, we are living at an important time of substantial civic responsibilit...</td>\n",
       "      <td>positive</td>\n",
       "      <td>0.791242</td>\n",
       "    </tr>\n",
       "    <tr>\n",
       "      <th>1387</th>\n",
       "      <td>Illinois Ranks Seventh In Census Response Rate May 4, 2020 @ 2:31pm.  Illinois is ranked seventh in the nation for its census response rate. The rate in Illinois is around 61-percent, about five-p...</td>\n",
       "      <td>positive</td>\n",
       "      <td>0.800552</td>\n",
       "    </tr>\n",
       "    <tr>\n",
       "      <th>1431</th>\n",
       "      <td>More than 160 guns turned over to Chicago police at buy-back event in Austin WLS Share: Share: CHICAGO (WLS) -- Guns piled up Saturday at Hope Community Church in Austin, where the Chicago Police ...</td>\n",
       "      <td>positive</td>\n",
       "      <td>0.792711</td>\n",
       "    </tr>\n",
       "  </tbody>\n",
       "</table>\n",
       "</div>"
      ],
      "text/plain": [
       "                                                                                                                                                                                                         Text  ...  TopScore\n",
       "32    .  As part of Governor JB Pritzker's historic $45 billion capital program, the Department of Commerce and Economic Opportunity (DCEO) announced on Jan. 27th a new initiative to invest $12 million ...  ...  0.866185\n",
       "52    12 hours ago | Tom Houghton.  Chicago wheat futures rallied to their highest level in five years Tuesday as a cocktail of dry weather in key growing... To read this article and see the full servic...  ...  0.880162\n",
       "63     20 City of Chicago Grants Funds to Boost Census Participation City of Chicago Grants Funds to Boost Census Participation City of Chicago Grants Funds to Boost Census Participation.  Mayor Lori E....  ...  0.876394\n",
       "123   Paint the City appears headed for even greater heights as it has been included in the City of Chicago’s “Boards of Change” project–a civic engagement initiative encouraging local participation in ...  ...  0.817152\n",
       "127   Paint the City appears headed for even greater heights as it has been included in the City of Chicago's 'Boards of Change' project'a civic engagement initiative encouraging local participation in ...  ...  0.975868\n",
       "251   Description Mercer has an exciting opportunity available and is recruiting for a solid and experienced Senior Retirement Consultant.What can you expect?If you like the idea of helping clients achi...  ...  0.799844\n",
       "581    29 Education Legislative Latino Caucus Foundation to Hold Annual Conference Legislative Latino Caucus Foundation to Hold Annual Conference Education | Comments Off on Legislative Latino Caucus Fo...  ...  0.810283\n",
       "605   .  Alec Blanc of Monarch Advisors announced the successful closing of a bank refinance for a 99- central Illinois. April closings have been few and far between, so, well done Mr. Blanc..  Built in...  ...  0.960814\n",
       "865   Wheat commentary: Chicago hits 4 1/2 month high as rally persists 1 hour ago.  The roll into a new month saw no let-up in the recent risk-on attitude for wheat, with the Chicago contract leaping.....  ...  0.880790\n",
       "893   Message of unity ahead of Memorial Day, and effort to bridge gap between Chicago's south and west sides WLS Share: Share: CHICAGO (WLS) -- Now is usually a popular time for communities to focus on...  ...  0.812772\n",
       "945   Wheat commentary: Chicago hits 13-week high on China rumours 55 minutes ago.  Chicago wheat jumped 3.5% higher Wednesday to its highest in 13 weeks on market talk of China buying US SRW after... T...  ...  0.855180\n",
       "1231  NORTH CHICAGO – The city of North Chicago is leading the way among the state’s municipalities in its unique and innovative approach to Census outreach with its #NorthChicagoCounts campaign..  The ...  ...  0.842456\n",
       "1328  Images.  Dear students, faculty and staff:.  With an election rapidly approaching and the 2020 census drawing to a conclusion, we are living at an important time of substantial civic responsibilit...  ...  0.791242\n",
       "1387  Illinois Ranks Seventh In Census Response Rate May 4, 2020 @ 2:31pm.  Illinois is ranked seventh in the nation for its census response rate. The rate in Illinois is around 61-percent, about five-p...  ...  0.800552\n",
       "1431  More than 160 guns turned over to Chicago police at buy-back event in Austin WLS Share: Share: CHICAGO (WLS) -- Guns piled up Saturday at Hope Community Church in Austin, where the Chicago Police ...  ...  0.792711\n",
       "\n",
       "[15 rows x 3 columns]"
      ]
     },
     "execution_count": 88,
     "metadata": {
      "tags": []
     },
     "output_type": "execute_result"
    }
   ],
   "source": [
    "top_sentiment[top_sentiment['PredictedClass']== 'positive']"
   ]
  },
  {
   "cell_type": "code",
   "execution_count": 84,
   "metadata": {
    "colab": {
     "base_uri": "https://localhost:8080/",
     "height": 542
    },
    "id": "x_DGHEj2MCbm",
    "outputId": "3c5b7c8f-647a-4d46-d8c0-72c0f6187eb3"
   },
   "outputs": [
    {
     "data": {
      "text/html": [
       "<html>\n",
       "<head><meta charset=\"utf-8\" /></head>\n",
       "<body>\n",
       "    <div>\n",
       "            <script src=\"https://cdnjs.cloudflare.com/ajax/libs/mathjax/2.7.5/MathJax.js?config=TeX-AMS-MML_SVG\"></script><script type=\"text/javascript\">if (window.MathJax) {MathJax.Hub.Config({SVG: {font: \"STIX-Web\"}});}</script>\n",
       "                <script type=\"text/javascript\">window.PlotlyConfig = {MathJaxConfig: 'local'};</script>\n",
       "        <script src=\"https://cdn.plot.ly/plotly-latest.min.js\"></script>    \n",
       "            <div id=\"4b6220b2-3a27-4ed4-ae64-60c22b23112e\" class=\"plotly-graph-div\" style=\"height:525px; width:100%;\"></div>\n",
       "            <script type=\"text/javascript\">\n",
       "                \n",
       "                    window.PLOTLYENV=window.PLOTLYENV || {};\n",
       "                    \n",
       "                if (document.getElementById(\"4b6220b2-3a27-4ed4-ae64-60c22b23112e\")) {\n",
       "                    Plotly.newPlot(\n",
       "                        '4b6220b2-3a27-4ed4-ae64-60c22b23112e',\n",
       "                        [{\"alignmentgroup\": \"True\", \"bingroup\": \"x\", \"hoverlabel\": {\"namelength\": 0}, \"hovertemplate\": \"PredictedClass=%{x}<br>count=%{y}\", \"legendgroup\": \"\", \"marker\": {\"color\": \"#636efa\"}, \"name\": \"\", \"offsetgroup\": \"\", \"orientation\": \"v\", \"showlegend\": false, \"type\": \"histogram\", \"x\": [\"negative\", \"negative\", \"positive\", \"negative\", \"negative\", \"negative\", \"negative\", \"positive\", \"negative\", \"negative\", \"positive\", \"positive\", \"negative\", \"negative\", \"positive\", \"negative\", \"negative\", \"negative\", \"negative\", \"negative\", \"negative\", \"negative\", \"negative\", \"negative\", \"negative\", \"negative\", \"negative\", \"negative\", \"negative\", \"negative\", \"negative\", \"negative\", \"positive\", \"positive\", \"negative\", \"negative\", \"negative\", \"negative\", \"negative\", \"negative\", \"negative\", \"negative\", \"negative\", \"negative\", \"negative\", \"negative\", \"negative\", \"negative\", \"positive\", \"positive\", \"negative\", \"positive\", \"negative\", \"positive\", \"negative\", \"negative\", \"negative\", \"negative\", \"negative\", \"negative\", \"negative\", \"negative\", \"negative\", \"negative\", \"negative\", \"negative\", \"negative\", \"positive\", \"negative\", \"negative\", \"negative\", \"negative\", \"negative\", \"negative\", \"negative\", \"negative\", \"negative\", \"negative\", \"negative\", \"negative\", \"negative\", \"negative\", \"negative\", \"negative\", \"negative\", \"negative\", \"negative\", \"negative\", \"negative\", \"negative\", \"positive\", \"negative\", \"negative\", \"negative\", \"negative\", \"negative\", \"negative\", \"negative\", \"negative\", \"negative\", \"negative\", \"negative\", \"negative\", \"negative\", \"negative\", \"negative\", \"negative\", \"negative\", \"negative\", \"negative\", \"negative\", \"negative\", \"negative\", \"positive\", \"negative\", \"negative\", \"negative\", \"negative\", \"negative\", \"negative\", \"negative\", \"negative\", \"negative\", \"negative\", \"negative\", \"negative\", \"negative\", \"negative\", \"negative\", \"negative\", \"negative\", \"negative\", \"negative\", \"negative\", \"negative\", \"negative\", \"negative\", \"negative\", \"negative\", \"negative\", \"negative\", \"negative\", \"negative\", \"negative\", \"negative\", \"negative\", \"negative\", \"positive\", \"positive\", \"negative\", \"negative\", \"negative\", \"negative\", \"negative\", \"negative\", \"negative\", \"positive\", \"negative\", \"positive\", \"negative\", \"negative\", \"negative\", \"negative\", \"negative\", \"negative\", \"negative\", \"negative\", \"negative\", \"negative\", \"negative\", \"positive\", \"negative\", \"negative\", \"negative\", \"negative\", \"negative\", \"negative\", \"negative\", \"negative\", \"negative\", \"negative\", \"negative\", \"negative\", \"negative\", \"negative\", \"negative\", \"negative\", \"negative\", \"negative\", \"negative\", \"negative\", \"negative\", \"negative\", \"negative\", \"negative\", \"negative\", \"negative\", \"negative\", \"negative\", \"negative\", \"negative\", \"negative\", \"negative\", \"negative\", \"negative\", \"negative\", \"negative\", \"negative\", \"negative\", \"negative\", \"negative\", \"negative\", \"negative\", \"negative\", \"negative\", \"positive\", \"positive\", \"negative\", \"negative\", \"negative\", \"negative\", \"negative\", \"negative\", \"negative\", \"negative\", \"negative\", \"negative\", \"negative\", \"negative\", \"positive\", \"negative\", \"negative\", \"negative\", \"negative\", \"negative\", \"negative\", \"negative\", \"negative\", \"positive\", \"negative\", \"negative\", \"negative\", \"positive\", \"negative\", \"negative\", \"negative\", \"negative\", \"negative\", \"negative\", \"negative\", \"negative\", \"negative\", \"negative\", \"negative\", \"positive\", \"positive\", \"negative\", \"negative\", \"negative\", \"negative\", \"negative\", \"negative\", \"negative\", \"positive\", \"negative\", \"negative\", \"negative\", \"negative\", \"negative\", \"negative\", \"positive\", \"positive\", \"positive\", \"negative\", \"negative\", \"negative\", \"negative\", \"negative\", \"negative\", \"negative\", \"negative\", \"negative\", \"negative\", \"negative\", \"negative\", \"negative\", \"negative\", \"negative\", \"negative\", \"negative\", \"negative\", \"negative\", \"negative\", \"negative\", \"negative\", \"negative\", \"negative\", \"positive\", \"negative\", \"negative\", \"negative\", \"negative\", \"negative\", \"negative\", \"negative\", \"negative\", \"negative\", \"positive\", \"negative\", \"negative\", \"negative\", \"negative\", \"negative\", \"negative\", \"positive\", \"negative\", \"negative\", \"negative\", \"negative\", \"negative\", \"negative\", \"negative\", \"negative\", \"negative\", \"negative\", \"negative\", \"negative\", \"negative\", \"negative\", \"positive\", \"negative\", \"negative\", \"negative\", \"negative\", \"negative\", \"negative\", \"negative\", \"negative\", \"negative\", \"negative\", \"negative\", \"negative\", \"negative\", \"negative\", \"negative\", \"positive\", \"negative\", \"negative\", \"negative\", \"negative\", \"positive\", \"negative\", \"negative\", \"negative\", \"negative\", \"negative\", \"negative\", \"negative\", \"negative\", \"negative\", \"negative\", \"negative\", \"negative\", \"negative\", \"negative\", \"negative\", \"negative\", \"positive\", \"negative\", \"negative\", \"negative\", \"negative\", \"negative\", \"positive\", \"negative\", \"negative\", \"negative\", \"positive\", \"negative\", \"negative\", \"negative\", \"negative\", \"negative\", \"negative\", \"negative\", \"negative\", \"negative\", \"positive\", \"negative\", \"positive\", \"negative\", \"negative\", \"negative\", \"negative\", \"negative\", \"negative\", \"positive\", \"negative\", \"negative\", \"negative\", \"negative\", \"negative\", \"positive\", \"negative\", \"negative\", \"negative\", \"negative\", \"negative\", \"negative\", \"negative\", \"negative\", \"negative\", \"negative\", \"negative\", \"negative\", \"positive\", \"negative\", \"negative\", \"negative\", \"negative\", \"negative\", \"negative\", \"negative\", \"negative\", \"positive\", \"negative\", \"negative\", \"negative\", \"negative\", \"negative\", \"negative\", \"negative\", \"negative\"], \"xaxis\": \"x\", \"yaxis\": \"y\"}],\n",
       "                        {\"barmode\": \"relative\", \"legend\": {\"tracegroupgap\": 0}, \"template\": {\"data\": {\"bar\": [{\"error_x\": {\"color\": \"#2a3f5f\"}, \"error_y\": {\"color\": \"#2a3f5f\"}, \"marker\": {\"line\": {\"color\": \"#E5ECF6\", \"width\": 0.5}}, \"type\": \"bar\"}], \"barpolar\": [{\"marker\": {\"line\": {\"color\": \"#E5ECF6\", \"width\": 0.5}}, \"type\": \"barpolar\"}], \"carpet\": [{\"aaxis\": {\"endlinecolor\": \"#2a3f5f\", \"gridcolor\": \"white\", \"linecolor\": \"white\", \"minorgridcolor\": \"white\", \"startlinecolor\": \"#2a3f5f\"}, \"baxis\": {\"endlinecolor\": \"#2a3f5f\", \"gridcolor\": \"white\", \"linecolor\": \"white\", \"minorgridcolor\": \"white\", \"startlinecolor\": \"#2a3f5f\"}, \"type\": \"carpet\"}], \"choropleth\": [{\"colorbar\": {\"outlinewidth\": 0, \"ticks\": \"\"}, \"type\": \"choropleth\"}], \"contour\": [{\"colorbar\": {\"outlinewidth\": 0, \"ticks\": \"\"}, \"colorscale\": [[0.0, \"#0d0887\"], [0.1111111111111111, \"#46039f\"], [0.2222222222222222, \"#7201a8\"], [0.3333333333333333, \"#9c179e\"], [0.4444444444444444, \"#bd3786\"], [0.5555555555555556, \"#d8576b\"], [0.6666666666666666, \"#ed7953\"], [0.7777777777777778, \"#fb9f3a\"], [0.8888888888888888, \"#fdca26\"], [1.0, \"#f0f921\"]], \"type\": \"contour\"}], \"contourcarpet\": [{\"colorbar\": {\"outlinewidth\": 0, \"ticks\": \"\"}, \"type\": \"contourcarpet\"}], \"heatmap\": [{\"colorbar\": {\"outlinewidth\": 0, \"ticks\": \"\"}, \"colorscale\": [[0.0, \"#0d0887\"], [0.1111111111111111, \"#46039f\"], [0.2222222222222222, \"#7201a8\"], [0.3333333333333333, \"#9c179e\"], [0.4444444444444444, \"#bd3786\"], [0.5555555555555556, \"#d8576b\"], [0.6666666666666666, \"#ed7953\"], [0.7777777777777778, \"#fb9f3a\"], [0.8888888888888888, \"#fdca26\"], [1.0, \"#f0f921\"]], \"type\": \"heatmap\"}], \"heatmapgl\": [{\"colorbar\": {\"outlinewidth\": 0, \"ticks\": \"\"}, \"colorscale\": [[0.0, \"#0d0887\"], [0.1111111111111111, \"#46039f\"], [0.2222222222222222, \"#7201a8\"], [0.3333333333333333, \"#9c179e\"], [0.4444444444444444, \"#bd3786\"], [0.5555555555555556, \"#d8576b\"], [0.6666666666666666, \"#ed7953\"], [0.7777777777777778, \"#fb9f3a\"], [0.8888888888888888, \"#fdca26\"], [1.0, \"#f0f921\"]], \"type\": \"heatmapgl\"}], \"histogram\": [{\"marker\": {\"colorbar\": {\"outlinewidth\": 0, \"ticks\": \"\"}}, \"type\": \"histogram\"}], \"histogram2d\": [{\"colorbar\": {\"outlinewidth\": 0, \"ticks\": \"\"}, \"colorscale\": [[0.0, \"#0d0887\"], [0.1111111111111111, \"#46039f\"], [0.2222222222222222, \"#7201a8\"], [0.3333333333333333, \"#9c179e\"], [0.4444444444444444, \"#bd3786\"], [0.5555555555555556, \"#d8576b\"], [0.6666666666666666, \"#ed7953\"], [0.7777777777777778, \"#fb9f3a\"], [0.8888888888888888, \"#fdca26\"], [1.0, \"#f0f921\"]], \"type\": \"histogram2d\"}], \"histogram2dcontour\": [{\"colorbar\": {\"outlinewidth\": 0, \"ticks\": \"\"}, \"colorscale\": [[0.0, \"#0d0887\"], [0.1111111111111111, \"#46039f\"], [0.2222222222222222, \"#7201a8\"], [0.3333333333333333, \"#9c179e\"], [0.4444444444444444, \"#bd3786\"], [0.5555555555555556, \"#d8576b\"], [0.6666666666666666, \"#ed7953\"], [0.7777777777777778, \"#fb9f3a\"], [0.8888888888888888, \"#fdca26\"], [1.0, \"#f0f921\"]], \"type\": \"histogram2dcontour\"}], \"mesh3d\": [{\"colorbar\": {\"outlinewidth\": 0, \"ticks\": \"\"}, \"type\": \"mesh3d\"}], \"parcoords\": [{\"line\": {\"colorbar\": {\"outlinewidth\": 0, \"ticks\": \"\"}}, \"type\": \"parcoords\"}], \"pie\": [{\"automargin\": true, \"type\": \"pie\"}], \"scatter\": [{\"marker\": {\"colorbar\": {\"outlinewidth\": 0, \"ticks\": \"\"}}, \"type\": \"scatter\"}], \"scatter3d\": [{\"line\": {\"colorbar\": {\"outlinewidth\": 0, \"ticks\": \"\"}}, \"marker\": {\"colorbar\": {\"outlinewidth\": 0, \"ticks\": \"\"}}, \"type\": \"scatter3d\"}], \"scattercarpet\": [{\"marker\": {\"colorbar\": {\"outlinewidth\": 0, \"ticks\": \"\"}}, \"type\": \"scattercarpet\"}], \"scattergeo\": [{\"marker\": {\"colorbar\": {\"outlinewidth\": 0, \"ticks\": \"\"}}, \"type\": \"scattergeo\"}], \"scattergl\": [{\"marker\": {\"colorbar\": {\"outlinewidth\": 0, \"ticks\": \"\"}}, \"type\": \"scattergl\"}], \"scattermapbox\": [{\"marker\": {\"colorbar\": {\"outlinewidth\": 0, \"ticks\": \"\"}}, \"type\": \"scattermapbox\"}], \"scatterpolar\": [{\"marker\": {\"colorbar\": {\"outlinewidth\": 0, \"ticks\": \"\"}}, \"type\": \"scatterpolar\"}], \"scatterpolargl\": [{\"marker\": {\"colorbar\": {\"outlinewidth\": 0, \"ticks\": \"\"}}, \"type\": \"scatterpolargl\"}], \"scatterternary\": [{\"marker\": {\"colorbar\": {\"outlinewidth\": 0, \"ticks\": \"\"}}, \"type\": \"scatterternary\"}], \"surface\": [{\"colorbar\": {\"outlinewidth\": 0, \"ticks\": \"\"}, \"colorscale\": [[0.0, \"#0d0887\"], [0.1111111111111111, \"#46039f\"], [0.2222222222222222, \"#7201a8\"], [0.3333333333333333, \"#9c179e\"], [0.4444444444444444, \"#bd3786\"], [0.5555555555555556, \"#d8576b\"], [0.6666666666666666, \"#ed7953\"], [0.7777777777777778, \"#fb9f3a\"], [0.8888888888888888, \"#fdca26\"], [1.0, \"#f0f921\"]], \"type\": \"surface\"}], \"table\": [{\"cells\": {\"fill\": {\"color\": \"#EBF0F8\"}, \"line\": {\"color\": \"white\"}}, \"header\": {\"fill\": {\"color\": \"#C8D4E3\"}, \"line\": {\"color\": \"white\"}}, \"type\": \"table\"}]}, \"layout\": {\"annotationdefaults\": {\"arrowcolor\": \"#2a3f5f\", \"arrowhead\": 0, \"arrowwidth\": 1}, \"coloraxis\": {\"colorbar\": {\"outlinewidth\": 0, \"ticks\": \"\"}}, \"colorscale\": {\"diverging\": [[0, \"#8e0152\"], [0.1, \"#c51b7d\"], [0.2, \"#de77ae\"], [0.3, \"#f1b6da\"], [0.4, \"#fde0ef\"], [0.5, \"#f7f7f7\"], [0.6, \"#e6f5d0\"], [0.7, \"#b8e186\"], [0.8, \"#7fbc41\"], [0.9, \"#4d9221\"], [1, \"#276419\"]], \"sequential\": [[0.0, \"#0d0887\"], [0.1111111111111111, \"#46039f\"], [0.2222222222222222, \"#7201a8\"], [0.3333333333333333, \"#9c179e\"], [0.4444444444444444, \"#bd3786\"], [0.5555555555555556, \"#d8576b\"], [0.6666666666666666, \"#ed7953\"], [0.7777777777777778, \"#fb9f3a\"], [0.8888888888888888, \"#fdca26\"], [1.0, \"#f0f921\"]], \"sequentialminus\": [[0.0, \"#0d0887\"], [0.1111111111111111, \"#46039f\"], [0.2222222222222222, \"#7201a8\"], [0.3333333333333333, \"#9c179e\"], [0.4444444444444444, \"#bd3786\"], [0.5555555555555556, \"#d8576b\"], [0.6666666666666666, \"#ed7953\"], [0.7777777777777778, \"#fb9f3a\"], [0.8888888888888888, \"#fdca26\"], [1.0, \"#f0f921\"]]}, \"colorway\": [\"#636efa\", \"#EF553B\", \"#00cc96\", \"#ab63fa\", \"#FFA15A\", \"#19d3f3\", \"#FF6692\", \"#B6E880\", \"#FF97FF\", \"#FECB52\"], \"font\": {\"color\": \"#2a3f5f\"}, \"geo\": {\"bgcolor\": \"white\", \"lakecolor\": \"white\", \"landcolor\": \"#E5ECF6\", \"showlakes\": true, \"showland\": true, \"subunitcolor\": \"white\"}, \"hoverlabel\": {\"align\": \"left\"}, \"hovermode\": \"closest\", \"mapbox\": {\"style\": \"light\"}, \"paper_bgcolor\": \"white\", \"plot_bgcolor\": \"#E5ECF6\", \"polar\": {\"angularaxis\": {\"gridcolor\": \"white\", \"linecolor\": \"white\", \"ticks\": \"\"}, \"bgcolor\": \"#E5ECF6\", \"radialaxis\": {\"gridcolor\": \"white\", \"linecolor\": \"white\", \"ticks\": \"\"}}, \"scene\": {\"xaxis\": {\"backgroundcolor\": \"#E5ECF6\", \"gridcolor\": \"white\", \"gridwidth\": 2, \"linecolor\": \"white\", \"showbackground\": true, \"ticks\": \"\", \"zerolinecolor\": \"white\"}, \"yaxis\": {\"backgroundcolor\": \"#E5ECF6\", \"gridcolor\": \"white\", \"gridwidth\": 2, \"linecolor\": \"white\", \"showbackground\": true, \"ticks\": \"\", \"zerolinecolor\": \"white\"}, \"zaxis\": {\"backgroundcolor\": \"#E5ECF6\", \"gridcolor\": \"white\", \"gridwidth\": 2, \"linecolor\": \"white\", \"showbackground\": true, \"ticks\": \"\", \"zerolinecolor\": \"white\"}}, \"shapedefaults\": {\"line\": {\"color\": \"#2a3f5f\"}}, \"ternary\": {\"aaxis\": {\"gridcolor\": \"white\", \"linecolor\": \"white\", \"ticks\": \"\"}, \"baxis\": {\"gridcolor\": \"white\", \"linecolor\": \"white\", \"ticks\": \"\"}, \"bgcolor\": \"#E5ECF6\", \"caxis\": {\"gridcolor\": \"white\", \"linecolor\": \"white\", \"ticks\": \"\"}}, \"title\": {\"x\": 0.05}, \"xaxis\": {\"automargin\": true, \"gridcolor\": \"white\", \"linecolor\": \"white\", \"ticks\": \"\", \"title\": {\"standoff\": 15}, \"zerolinecolor\": \"white\", \"zerolinewidth\": 2}, \"yaxis\": {\"automargin\": true, \"gridcolor\": \"white\", \"linecolor\": \"white\", \"ticks\": \"\", \"title\": {\"standoff\": 15}, \"zerolinecolor\": \"white\", \"zerolinewidth\": 2}}}, \"title\": {\"text\": \"Confident (80%) Sentiment on Target Articles\"}, \"xaxis\": {\"anchor\": \"y\", \"domain\": [0.0, 1.0], \"title\": {\"text\": \"PredictedClass\"}}, \"yaxis\": {\"anchor\": \"x\", \"domain\": [0.0, 1.0], \"title\": {\"text\": \"count\"}}},\n",
       "                        {\"responsive\": true}\n",
       "                    ).then(function(){\n",
       "                            \n",
       "var gd = document.getElementById('4b6220b2-3a27-4ed4-ae64-60c22b23112e');\n",
       "var x = new MutationObserver(function (mutations, observer) {{\n",
       "        var display = window.getComputedStyle(gd).display;\n",
       "        if (!display || display === 'none') {{\n",
       "            console.log([gd, 'removed!']);\n",
       "            Plotly.purge(gd);\n",
       "            observer.disconnect();\n",
       "        }}\n",
       "}});\n",
       "\n",
       "// Listen for the removal of the full notebook cells\n",
       "var notebookContainer = gd.closest('#notebook-container');\n",
       "if (notebookContainer) {{\n",
       "    x.observe(notebookContainer, {childList: true});\n",
       "}}\n",
       "\n",
       "// Listen for the clearing of the current output cell\n",
       "var outputEl = gd.closest('.output');\n",
       "if (outputEl) {{\n",
       "    x.observe(outputEl, {childList: true});\n",
       "}}\n",
       "\n",
       "                        })\n",
       "                };\n",
       "                \n",
       "            </script>\n",
       "        </div>\n",
       "</body>\n",
       "</html>"
      ]
     },
     "metadata": {
      "tags": []
     },
     "output_type": "display_data"
    }
   ],
   "source": [
    "import plotly.express as px\n",
    "fig = px.histogram(top_sentiment, x='PredictedClass',title='Confident (80%) Sentiment on Target Articles')\n",
    "fig.show()"
   ]
  },
  {
   "cell_type": "code",
   "execution_count": null,
   "metadata": {
    "id": "6qBr88hDQI4a"
   },
   "outputs": [],
   "source": []
  },
  {
   "cell_type": "code",
   "execution_count": 89,
   "metadata": {
    "id": "oW-80D1am_F0"
   },
   "outputs": [],
   "source": [
    "classes_df.to_csv('pop_specific_sent.csv')"
   ]
  },
  {
   "cell_type": "code",
   "execution_count": 91,
   "metadata": {
    "colab": {
     "base_uri": "https://localhost:8080/",
     "height": 589
    },
    "id": "JbCjKzb8L3g2",
    "outputId": "43e2d152-36e3-47f8-ca8c-e00333f942f3"
   },
   "outputs": [
    {
     "data": {
      "text/html": [
       "<div>\n",
       "<style scoped>\n",
       "    .dataframe tbody tr th:only-of-type {\n",
       "        vertical-align: middle;\n",
       "    }\n",
       "\n",
       "    .dataframe tbody tr th {\n",
       "        vertical-align: top;\n",
       "    }\n",
       "\n",
       "    .dataframe thead th {\n",
       "        text-align: right;\n",
       "    }\n",
       "</style>\n",
       "<table border=\"1\" class=\"dataframe\">\n",
       "  <thead>\n",
       "    <tr style=\"text-align: right;\">\n",
       "      <th></th>\n",
       "      <th>Text</th>\n",
       "      <th>Scores</th>\n",
       "      <th>Classes</th>\n",
       "      <th>PredictedClass</th>\n",
       "      <th>TopScore</th>\n",
       "    </tr>\n",
       "  </thead>\n",
       "  <tbody>\n",
       "    <tr>\n",
       "      <th>0</th>\n",
       "      <td>Also: DeKalb County region on track to qualify for Phase 3 re-opening pending testing metrics By Daily Chronicle Mark Black for Shaw Media Caption Vehicles funnel into three testing bays at the Il...</td>\n",
       "      <td>[0.5070857405662537, 0.4929142892360687]</td>\n",
       "      <td>[positive, negative]</td>\n",
       "      <td>positive</td>\n",
       "      <td>0.507086</td>\n",
       "    </tr>\n",
       "    <tr>\n",
       "      <th>1</th>\n",
       "      <td>The good news: Terry Link quit his job..  The bad news: Not fast enough..  Let’s review: On Aug. 13, federal prosecutors charged then-state Sen. Link, D-Indian Creek, with filing a false income ta...</td>\n",
       "      <td>[0.5299054384231567, 0.4700945317745209]</td>\n",
       "      <td>[negative, positive]</td>\n",
       "      <td>negative</td>\n",
       "      <td>0.529905</td>\n",
       "    </tr>\n",
       "    <tr>\n",
       "      <th>2</th>\n",
       "      <td>Small businesses are the heart of our neighborhoods. Jobs that are created by small businesses are what keep our communities thriving. My name is Chris Plywacz and I am the proud owner of Reeg Plu...</td>\n",
       "      <td>[0.6016096472740173, 0.3983902931213379]</td>\n",
       "      <td>[negative, positive]</td>\n",
       "      <td>negative</td>\n",
       "      <td>0.601610</td>\n",
       "    </tr>\n",
       "    <tr>\n",
       "      <th>3</th>\n",
       "      <td>1 / 4 Goodbye, New York, California and Illinois. Hello … Where? (Bloomberg Opinion) -- New York, California and Illinois have been hemorrhaging residents. Almost 3.2 million more people left thos...</td>\n",
       "      <td>[0.5023202300071716, 0.49767979979515076]</td>\n",
       "      <td>[negative, positive]</td>\n",
       "      <td>negative</td>\n",
       "      <td>0.502320</td>\n",
       "    </tr>\n",
       "    <tr>\n",
       "      <th>4</th>\n",
       "      <td>Sangamon saw its population decrease by 2,419, or 1.2 percent, over the last decade, according to a new analysis from Wirepoints.org that is based on U.S. Census Bureau data..  Sangamon recorded t...</td>\n",
       "      <td>[0.7003471851348877, 0.29965275526046753]</td>\n",
       "      <td>[negative, positive]</td>\n",
       "      <td>negative</td>\n",
       "      <td>0.700347</td>\n",
       "    </tr>\n",
       "    <tr>\n",
       "      <th>...</th>\n",
       "      <td>...</td>\n",
       "      <td>...</td>\n",
       "      <td>...</td>\n",
       "      <td>...</td>\n",
       "      <td>...</td>\n",
       "    </tr>\n",
       "    <tr>\n",
       "      <th>1488</th>\n",
       "      <td>Katey Frederking, 28, used to live in Ravenswood. But she listed her condo two weeks ago, and is looking to move to the suburbs for her health and a yard for her dogs. She said COVID-19 was a cata...</td>\n",
       "      <td>[0.665336012840271, 0.334663987159729]</td>\n",
       "      <td>[negative, positive]</td>\n",
       "      <td>negative</td>\n",
       "      <td>0.665336</td>\n",
       "    </tr>\n",
       "    <tr>\n",
       "      <th>1489</th>\n",
       "      <td>Why Illinois Has Bad Governance.  I think that RNC member Richard Porter’s piece at RealClearPolitics about how bad governance is driving the “Illinois Exodus”, Illinois’s constant and large loss ...</td>\n",
       "      <td>[0.5008577704429626, 0.49914222955703735]</td>\n",
       "      <td>[positive, negative]</td>\n",
       "      <td>positive</td>\n",
       "      <td>0.500858</td>\n",
       "    </tr>\n",
       "    <tr>\n",
       "      <th>1490</th>\n",
       "      <td>Illinois has a population problem: Our population has been shrinking faster than any other state (except one). The Chicago Tribune Editorial Board and others call this the Illinois Exodus. Populat...</td>\n",
       "      <td>[0.5657886862754822, 0.43421128392219543]</td>\n",
       "      <td>[negative, positive]</td>\n",
       "      <td>negative</td>\n",
       "      <td>0.565789</td>\n",
       "    </tr>\n",
       "    <tr>\n",
       "      <th>1491</th>\n",
       "      <td>Illinois has a population problem: Our population has been shrinking faster than any other state (except one). The Chicago Tribune Editorial Board and others call this the Illinois Exodus. Populat...</td>\n",
       "      <td>[0.5657886862754822, 0.43421128392219543]</td>\n",
       "      <td>[negative, positive]</td>\n",
       "      <td>negative</td>\n",
       "      <td>0.565789</td>\n",
       "    </tr>\n",
       "    <tr>\n",
       "      <th>1492</th>\n",
       "      <td>By Press release submission | Aug 14, 2020.  Illinois State House District 106 issued the following announcement on Aug. 10..  If you are receiving this update as an e-mail forward and would like ...</td>\n",
       "      <td>[0.5014721751213074, 0.4985278248786926]</td>\n",
       "      <td>[positive, negative]</td>\n",
       "      <td>positive</td>\n",
       "      <td>0.501472</td>\n",
       "    </tr>\n",
       "  </tbody>\n",
       "</table>\n",
       "<p>1493 rows × 5 columns</p>\n",
       "</div>"
      ],
      "text/plain": [
       "                                                                                                                                                                                                         Text  ...  TopScore\n",
       "0     Also: DeKalb County region on track to qualify for Phase 3 re-opening pending testing metrics By Daily Chronicle Mark Black for Shaw Media Caption Vehicles funnel into three testing bays at the Il...  ...  0.507086\n",
       "1     The good news: Terry Link quit his job..  The bad news: Not fast enough..  Let’s review: On Aug. 13, federal prosecutors charged then-state Sen. Link, D-Indian Creek, with filing a false income ta...  ...  0.529905\n",
       "2     Small businesses are the heart of our neighborhoods. Jobs that are created by small businesses are what keep our communities thriving. My name is Chris Plywacz and I am the proud owner of Reeg Plu...  ...  0.601610\n",
       "3     1 / 4 Goodbye, New York, California and Illinois. Hello … Where? (Bloomberg Opinion) -- New York, California and Illinois have been hemorrhaging residents. Almost 3.2 million more people left thos...  ...  0.502320\n",
       "4     Sangamon saw its population decrease by 2,419, or 1.2 percent, over the last decade, according to a new analysis from Wirepoints.org that is based on U.S. Census Bureau data..  Sangamon recorded t...  ...  0.700347\n",
       "...                                                                                                                                                                                                       ...  ...       ...\n",
       "1488  Katey Frederking, 28, used to live in Ravenswood. But she listed her condo two weeks ago, and is looking to move to the suburbs for her health and a yard for her dogs. She said COVID-19 was a cata...  ...  0.665336\n",
       "1489  Why Illinois Has Bad Governance.  I think that RNC member Richard Porter’s piece at RealClearPolitics about how bad governance is driving the “Illinois Exodus”, Illinois’s constant and large loss ...  ...  0.500858\n",
       "1490  Illinois has a population problem: Our population has been shrinking faster than any other state (except one). The Chicago Tribune Editorial Board and others call this the Illinois Exodus. Populat...  ...  0.565789\n",
       "1491  Illinois has a population problem: Our population has been shrinking faster than any other state (except one). The Chicago Tribune Editorial Board and others call this the Illinois Exodus. Populat...  ...  0.565789\n",
       "1492  By Press release submission | Aug 14, 2020.  Illinois State House District 106 issued the following announcement on Aug. 10..  If you are receiving this update as an e-mail forward and would like ...  ...  0.501472\n",
       "\n",
       "[1493 rows x 5 columns]"
      ]
     },
     "execution_count": 91,
     "metadata": {
      "tags": []
     },
     "output_type": "execute_result"
    }
   ],
   "source": [
    "classes_df"
   ]
  },
  {
   "cell_type": "code",
   "execution_count": 31,
   "metadata": {
    "colab": {
     "base_uri": "https://localhost:8080/"
    },
    "id": "kexDq78v0zx8",
    "outputId": "95d8fb18-f35f-41d1-cb7a-280d932b7251"
   },
   "outputs": [
    {
     "data": {
      "text/plain": [
       "0       Also: DeKalb County region on track to qualify...\n",
       "1       The good news: Terry Link quit his job..  The ...\n",
       "2       Small businesses are the heart of our neighbor...\n",
       "3       1 / 4 Goodbye, New York, California and Illino...\n",
       "4       Sangamon saw its population decrease by 2,419,...\n",
       "                              ...                        \n",
       "1488    Katey Frederking, 28, used to live in Ravenswo...\n",
       "1489    Why Illinois Has Bad Governance.  I think that...\n",
       "1490    Illinois has a population problem: Our populat...\n",
       "1491    Illinois has a population problem: Our populat...\n",
       "1492    By Press release submission | Aug 14, 2020.  I...\n",
       "Name: text_clean, Length: 1493, dtype: object"
      ]
     },
     "execution_count": 31,
     "metadata": {
      "tags": []
     },
     "output_type": "execute_result"
    }
   ],
   "source": [
    "df"
   ]
  },
  {
   "cell_type": "code",
   "execution_count": 30,
   "metadata": {
    "colab": {
     "base_uri": "https://localhost:8080/"
    },
    "id": "aduyZymr0OF3",
    "outputId": "ae03ce76-eb69-467d-b61f-c05a66d3cd41"
   },
   "outputs": [
    {
     "name": "stdout",
     "output_type": "stream",
     "text": [
      "Apple 0 5 ORG\n",
      "U.K. 27 31 GPE\n",
      "$1 billion 44 54 MONEY\n"
     ]
    }
   ],
   "source": [
    "import spacy\n",
    "nlp = spacy.load(\"en_core_web_sm\")"
   ]
  },
  {
   "cell_type": "code",
   "execution_count": 56,
   "metadata": {
    "id": "HBzaSeXK1Ilq"
   },
   "outputs": [],
   "source": [
    "entities = []\n",
    "labels = []\n",
    "\n",
    "# Read in the text\n",
    "for i in range(len(text)):\n",
    "    doc = nlp(str(text[i]))\n",
    "    \n",
    "    # create entities\n",
    "    for ent in doc.ents:\n",
    "    # for ent in doc.ents:\n",
    "        entities.append(ent)\n",
    "        labels.append(ent.label_)"
   ]
  },
  {
   "cell_type": "code",
   "execution_count": 63,
   "metadata": {
    "colab": {
     "base_uri": "https://localhost:8080/"
    },
    "id": "vtr1zfG1CMFI",
    "outputId": "52401ecb-d374-43e8-bfbf-fe258aa6ac7e"
   },
   "outputs": [
    {
     "data": {
      "text/plain": [
       "[(DeKalb County, 1),\n",
       " (Phase 3, 1),\n",
       " (Daily, 1),\n",
       " (Shaw Media Caption Vehicles, 1),\n",
       " (three, 1),\n",
       " (Illinois, 1),\n",
       " (the Illinois National Guard, 1),\n",
       " (the Chicago Premium Outlets mall, 1),\n",
       " (Aurora, 1),\n",
       " (less than an hour, 1),\n",
       " (the second full day, 1),\n",
       " (Aurora Apr. 24, 1),\n",
       " (Mark Busch, 1),\n",
       " (Caption Sam Cohn, 1),\n",
       " (The Junction Eating Place, 1),\n",
       " (Sunday, 1),\n",
       " (West Lincoln Highway, 1),\n",
       " (DeKalb, 1),\n",
       " (Mark Busch, 1),\n",
       " (fourth, 1)]"
      ]
     },
     "execution_count": 63,
     "metadata": {
      "tags": []
     },
     "output_type": "execute_result"
    }
   ],
   "source": [
    "Counter(entities).most_common(20)"
   ]
  },
  {
   "cell_type": "code",
   "execution_count": 57,
   "metadata": {
    "colab": {
     "base_uri": "https://localhost:8080/",
     "height": 359
    },
    "id": "kA1bfSBe3DMa",
    "outputId": "9c50f1a6-c1cf-4b11-8571-4f8f9c669284"
   },
   "outputs": [
    {
     "data": {
      "text/html": [
       "<div>\n",
       "<style scoped>\n",
       "    .dataframe tbody tr th:only-of-type {\n",
       "        vertical-align: middle;\n",
       "    }\n",
       "\n",
       "    .dataframe tbody tr th {\n",
       "        vertical-align: top;\n",
       "    }\n",
       "\n",
       "    .dataframe thead th {\n",
       "        text-align: right;\n",
       "    }\n",
       "</style>\n",
       "<table border=\"1\" class=\"dataframe\">\n",
       "  <thead>\n",
       "    <tr style=\"text-align: right;\">\n",
       "      <th></th>\n",
       "      <th>Entities</th>\n",
       "      <th>Labels</th>\n",
       "    </tr>\n",
       "  </thead>\n",
       "  <tbody>\n",
       "    <tr>\n",
       "      <th>0</th>\n",
       "      <td>(DeKalb, County)</td>\n",
       "      <td>GPE</td>\n",
       "    </tr>\n",
       "    <tr>\n",
       "      <th>1</th>\n",
       "      <td>(Phase, 3)</td>\n",
       "      <td>FAC</td>\n",
       "    </tr>\n",
       "    <tr>\n",
       "      <th>2</th>\n",
       "      <td>(Daily)</td>\n",
       "      <td>DATE</td>\n",
       "    </tr>\n",
       "    <tr>\n",
       "      <th>3</th>\n",
       "      <td>(Shaw, Media, Caption, Vehicles)</td>\n",
       "      <td>ORG</td>\n",
       "    </tr>\n",
       "    <tr>\n",
       "      <th>4</th>\n",
       "      <td>(three)</td>\n",
       "      <td>CARDINAL</td>\n",
       "    </tr>\n",
       "    <tr>\n",
       "      <th>5</th>\n",
       "      <td>(Illinois)</td>\n",
       "      <td>GPE</td>\n",
       "    </tr>\n",
       "    <tr>\n",
       "      <th>6</th>\n",
       "      <td>(the, Illinois, National, Guard)</td>\n",
       "      <td>ORG</td>\n",
       "    </tr>\n",
       "    <tr>\n",
       "      <th>7</th>\n",
       "      <td>(the, Chicago, Premium, Outlets, mall)</td>\n",
       "      <td>EVENT</td>\n",
       "    </tr>\n",
       "    <tr>\n",
       "      <th>8</th>\n",
       "      <td>(Aurora)</td>\n",
       "      <td>GPE</td>\n",
       "    </tr>\n",
       "    <tr>\n",
       "      <th>9</th>\n",
       "      <td>(less, than, an, hour)</td>\n",
       "      <td>TIME</td>\n",
       "    </tr>\n",
       "  </tbody>\n",
       "</table>\n",
       "</div>"
      ],
      "text/plain": [
       "                                 Entities    Labels\n",
       "0                        (DeKalb, County)       GPE\n",
       "1                              (Phase, 3)       FAC\n",
       "2                                 (Daily)      DATE\n",
       "3        (Shaw, Media, Caption, Vehicles)       ORG\n",
       "4                                 (three)  CARDINAL\n",
       "5                              (Illinois)       GPE\n",
       "6        (the, Illinois, National, Guard)       ORG\n",
       "7  (the, Chicago, Premium, Outlets, mall)     EVENT\n",
       "8                                (Aurora)       GPE\n",
       "9                  (less, than, an, hour)      TIME"
      ]
     },
     "execution_count": 57,
     "metadata": {
      "tags": []
     },
     "output_type": "execute_result"
    }
   ],
   "source": [
    "dataframe = pd.DataFrame({'Entities':entities, 'Labels':labels})\n",
    "dataframe.head(10)"
   ]
  },
  {
   "cell_type": "markdown",
   "metadata": {
    "id": "Tb8hiCnQorJ8"
   },
   "source": [
    "# Topic Classification Zero Shot"
   ]
  },
  {
   "cell_type": "code",
   "execution_count": null,
   "metadata": {
    "id": "TaWNAz4ZSgMM"
   },
   "outputs": [],
   "source": [
    "# oneshot_df['TopScore'] = oneshot_df['Scores'].map(lambda x: x[0])"
   ]
  },
  {
   "cell_type": "code",
   "execution_count": null,
   "metadata": {
    "id": "J3HBWRDDZ5gB"
   },
   "outputs": [],
   "source": [
    "# oneshot_df = pd.read_csv('/content/drive/MyDrive/NLP_Final_Project/oneshot_df2.csv')"
   ]
  },
  {
   "cell_type": "code",
   "execution_count": null,
   "metadata": {
    "id": "pXrUaf6ORmh4"
   },
   "outputs": [],
   "source": [
    "# oneshot_df.head(5)"
   ]
  },
  {
   "cell_type": "code",
   "execution_count": null,
   "metadata": {
    "id": "KC7M8r6SSACV"
   },
   "outputs": [],
   "source": [
    "# oneshot_df['PredictedClass'].value_counts()"
   ]
  },
  {
   "cell_type": "code",
   "execution_count": null,
   "metadata": {
    "colab": {
     "base_uri": "https://localhost:8080/"
    },
    "id": "G-JdHVFqSvB9",
    "outputId": "8e71862c-dafe-4709-dcb7-5ca415bba993"
   },
   "outputs": [
    {
     "data": {
      "text/plain": [
       "0.998427    127\n",
       "0.991434    101\n",
       "0.987254     98\n",
       "0.963435     97\n",
       "0.930353     96\n",
       "           ... \n",
       "0.864862      1\n",
       "0.864860      1\n",
       "0.864859      1\n",
       "0.864857      1\n",
       "0.990216      1\n",
       "Name: TopScore, Length: 206720, dtype: int64"
      ]
     },
     "execution_count": 8,
     "metadata": {
      "tags": []
     },
     "output_type": "execute_result"
    }
   ],
   "source": [
    "oneshot_df['TopScore'].value_counts()"
   ]
  },
  {
   "cell_type": "code",
   "execution_count": null,
   "metadata": {
    "colab": {
     "base_uri": "https://localhost:8080/"
    },
    "id": "LBHNrGbQS5WN",
    "outputId": "a206a616-3436-4cc9-e329-cb50294bf153"
   },
   "outputs": [
    {
     "data": {
      "text/plain": [
       "count    290688.000000\n",
       "mean          0.904727\n",
       "std           0.139530\n",
       "min           0.000689\n",
       "25%           0.889132\n",
       "50%           0.958668\n",
       "75%           0.986612\n",
       "max           0.999885\n",
       "Name: TopScore, dtype: float64"
      ]
     },
     "execution_count": 9,
     "metadata": {
      "tags": []
     },
     "output_type": "execute_result"
    }
   ],
   "source": [
    "oneshot_df['TopScore'].describe()"
   ]
  },
  {
   "cell_type": "code",
   "execution_count": null,
   "metadata": {
    "colab": {
     "base_uri": "https://localhost:8080/",
     "height": 301
    },
    "id": "BIVMmobVTABI",
    "outputId": "b664be70-e510-43ee-b57e-d0327369fbe8"
   },
   "outputs": [
    {
     "data": {
      "text/html": [
       "<div>\n",
       "<style scoped>\n",
       "    .dataframe tbody tr th:only-of-type {\n",
       "        vertical-align: middle;\n",
       "    }\n",
       "\n",
       "    .dataframe tbody tr th {\n",
       "        vertical-align: top;\n",
       "    }\n",
       "\n",
       "    .dataframe thead th {\n",
       "        text-align: right;\n",
       "    }\n",
       "</style>\n",
       "<table border=\"1\" class=\"dataframe\">\n",
       "  <thead>\n",
       "    <tr style=\"text-align: right;\">\n",
       "      <th></th>\n",
       "      <th>Unnamed: 0</th>\n",
       "      <th>Title</th>\n",
       "      <th>Scores</th>\n",
       "      <th>Classes</th>\n",
       "      <th>PredictedClass</th>\n",
       "      <th>TopScore</th>\n",
       "    </tr>\n",
       "  </thead>\n",
       "  <tbody>\n",
       "    <tr>\n",
       "      <th>20280</th>\n",
       "      <td>20280</td>\n",
       "      <td>Illinois Department of Transportation To Resur...</td>\n",
       "      <td>[0.9890256524085999, 0.8027991056442261, 0.695...</td>\n",
       "      <td>['work', 'events', 'business', 'covid']</td>\n",
       "      <td>work</td>\n",
       "      <td>0.989026</td>\n",
       "    </tr>\n",
       "    <tr>\n",
       "      <th>44033</th>\n",
       "      <td>44033</td>\n",
       "      <td>Girl killed when car fleeing Chicago police cr...</td>\n",
       "      <td>[0.9849066734313965, 0.7408555150032043, 0.206...</td>\n",
       "      <td>['events', 'covid', 'culture', 'work']</td>\n",
       "      <td>events</td>\n",
       "      <td>0.984907</td>\n",
       "    </tr>\n",
       "    <tr>\n",
       "      <th>166154</th>\n",
       "      <td>166154</td>\n",
       "      <td>Matt Magalis earns $126,100 working for the Il...</td>\n",
       "      <td>[0.9979705214500427, 0.9371009469032288, 0.612...</td>\n",
       "      <td>['work', 'business', 'events', 'covid']</td>\n",
       "      <td>work</td>\n",
       "      <td>0.997971</td>\n",
       "    </tr>\n",
       "    <tr>\n",
       "      <th>137501</th>\n",
       "      <td>137501</td>\n",
       "      <td>Pre-Game Thread 11/03/2019 5pm PST - Chicago B...</td>\n",
       "      <td>[0.9935423731803894, 0.9102787375450134, 0.482...</td>\n",
       "      <td>['sports', 'events', 'covid', 'work']</td>\n",
       "      <td>sports</td>\n",
       "      <td>0.993542</td>\n",
       "    </tr>\n",
       "    <tr>\n",
       "      <th>199881</th>\n",
       "      <td>199881</td>\n",
       "      <td>Clint Gleckler earns 31 percent more during 20...</td>\n",
       "      <td>[0.9974560737609863, 0.9888573288917542, 0.925...</td>\n",
       "      <td>['work', 'business', 'events', 'culture']</td>\n",
       "      <td>work</td>\n",
       "      <td>0.997456</td>\n",
       "    </tr>\n",
       "  </tbody>\n",
       "</table>\n",
       "</div>"
      ],
      "text/plain": [
       "        Unnamed: 0  ...  TopScore\n",
       "20280        20280  ...  0.989026\n",
       "44033        44033  ...  0.984907\n",
       "166154      166154  ...  0.997971\n",
       "137501      137501  ...  0.993542\n",
       "199881      199881  ...  0.997456\n",
       "\n",
       "[5 rows x 6 columns]"
      ]
     },
     "execution_count": 16,
     "metadata": {
      "tags": []
     },
     "output_type": "execute_result"
    }
   ],
   "source": [
    "top = oneshot_df[oneshot_df['TopScore'] > .98]\n",
    "top.sample(5)"
   ]
  },
  {
   "cell_type": "code",
   "execution_count": null,
   "metadata": {
    "colab": {
     "base_uri": "https://localhost:8080/",
     "height": 407
    },
    "id": "jOAprdgmcVIt",
    "outputId": "4edfe29e-dcab-45f2-c88f-fcfbdfe7ee2f"
   },
   "outputs": [
    {
     "data": {
      "text/html": [
       "<div>\n",
       "<style scoped>\n",
       "    .dataframe tbody tr th:only-of-type {\n",
       "        vertical-align: middle;\n",
       "    }\n",
       "\n",
       "    .dataframe tbody tr th {\n",
       "        vertical-align: top;\n",
       "    }\n",
       "\n",
       "    .dataframe thead th {\n",
       "        text-align: right;\n",
       "    }\n",
       "</style>\n",
       "<table border=\"1\" class=\"dataframe\">\n",
       "  <thead>\n",
       "    <tr style=\"text-align: right;\">\n",
       "      <th></th>\n",
       "      <th>Unnamed: 0</th>\n",
       "      <th>Title</th>\n",
       "      <th>Scores</th>\n",
       "      <th>Classes</th>\n",
       "      <th>PredictedClass</th>\n",
       "      <th>TopScore</th>\n",
       "    </tr>\n",
       "  </thead>\n",
       "  <tbody>\n",
       "    <tr>\n",
       "      <th>89</th>\n",
       "      <td>89</td>\n",
       "      <td>Teachers in face masks? Staggered attendance? ...</td>\n",
       "      <td>[0.9888619184494019, 0.9667844176292419, 0.939...</td>\n",
       "      <td>['school', 'events', 'work', 'culture']</td>\n",
       "      <td>school</td>\n",
       "      <td>0.988862</td>\n",
       "    </tr>\n",
       "    <tr>\n",
       "      <th>189</th>\n",
       "      <td>189</td>\n",
       "      <td>Teachers in face masks? Staggered attendance? ...</td>\n",
       "      <td>[0.9888619184494019, 0.9667844176292419, 0.939...</td>\n",
       "      <td>['school', 'events', 'work', 'culture']</td>\n",
       "      <td>school</td>\n",
       "      <td>0.988862</td>\n",
       "    </tr>\n",
       "    <tr>\n",
       "      <th>461</th>\n",
       "      <td>461</td>\n",
       "      <td>Lecturer of Physics, Department of Physics – N...</td>\n",
       "      <td>[0.9920215010643005, 0.8979613184928894, 0.751...</td>\n",
       "      <td>['school', 'work', 'covid', 'events']</td>\n",
       "      <td>school</td>\n",
       "      <td>0.992022</td>\n",
       "    </tr>\n",
       "    <tr>\n",
       "      <th>585</th>\n",
       "      <td>585</td>\n",
       "      <td>Scholarship enables criminal justice student J...</td>\n",
       "      <td>[0.9838278889656067, 0.9723213315010071, 0.780...</td>\n",
       "      <td>['school', 'work', 'events', 'covid']</td>\n",
       "      <td>school</td>\n",
       "      <td>0.983828</td>\n",
       "    </tr>\n",
       "    <tr>\n",
       "      <th>602</th>\n",
       "      <td>602</td>\n",
       "      <td>Chicago Public Schools Counts 85 Coronavirus C...</td>\n",
       "      <td>[0.9859746694564819, 0.9323989748954773, 0.877...</td>\n",
       "      <td>['school', 'health', 'events', 'work']</td>\n",
       "      <td>school</td>\n",
       "      <td>0.985975</td>\n",
       "    </tr>\n",
       "    <tr>\n",
       "      <th>...</th>\n",
       "      <td>...</td>\n",
       "      <td>...</td>\n",
       "      <td>...</td>\n",
       "      <td>...</td>\n",
       "      <td>...</td>\n",
       "      <td>...</td>\n",
       "    </tr>\n",
       "    <tr>\n",
       "      <th>290410</th>\n",
       "      <td>290410</td>\n",
       "      <td>Here’s How Chicago Schools Voted On Police In ...</td>\n",
       "      <td>[0.9813989400863647, 0.9215110540390015, 0.885...</td>\n",
       "      <td>['school', 'events', 'culture', 'covid']</td>\n",
       "      <td>school</td>\n",
       "      <td>0.981399</td>\n",
       "    </tr>\n",
       "    <tr>\n",
       "      <th>290512</th>\n",
       "      <td>290512</td>\n",
       "      <td>Mies van der Rohe's workhorse tower gets a vib...</td>\n",
       "      <td>[0.9917550086975098, 0.9871726632118225, 0.946...</td>\n",
       "      <td>['school', 'work', 'culture', 'events']</td>\n",
       "      <td>school</td>\n",
       "      <td>0.991755</td>\n",
       "    </tr>\n",
       "    <tr>\n",
       "      <th>290560</th>\n",
       "      <td>290560</td>\n",
       "      <td>The University of Chicago Booth School of Busi...</td>\n",
       "      <td>[0.9909126162528992, 0.9797205328941345, 0.658...</td>\n",
       "      <td>['school', 'business', 'covid', 'work']</td>\n",
       "      <td>school</td>\n",
       "      <td>0.990913</td>\n",
       "    </tr>\n",
       "    <tr>\n",
       "      <th>290629</th>\n",
       "      <td>290629</td>\n",
       "      <td>Illinois Central College Culinary Arts Receive...</td>\n",
       "      <td>[0.9931992888450623, 0.9225084781646729, 0.914...</td>\n",
       "      <td>['school', 'work', 'covid', 'events']</td>\n",
       "      <td>school</td>\n",
       "      <td>0.993199</td>\n",
       "    </tr>\n",
       "    <tr>\n",
       "      <th>290649</th>\n",
       "      <td>290649</td>\n",
       "      <td>Gudaitis commits to Illinois State</td>\n",
       "      <td>[0.9928796887397766, 0.9513299465179443, 0.894...</td>\n",
       "      <td>['school', 'covid', 'events', 'sports']</td>\n",
       "      <td>school</td>\n",
       "      <td>0.992880</td>\n",
       "    </tr>\n",
       "  </tbody>\n",
       "</table>\n",
       "<p>2655 rows × 6 columns</p>\n",
       "</div>"
      ],
      "text/plain": [
       "        Unnamed: 0  ...  TopScore\n",
       "89              89  ...  0.988862\n",
       "189            189  ...  0.988862\n",
       "461            461  ...  0.992022\n",
       "585            585  ...  0.983828\n",
       "602            602  ...  0.985975\n",
       "...            ...  ...       ...\n",
       "290410      290410  ...  0.981399\n",
       "290512      290512  ...  0.991755\n",
       "290560      290560  ...  0.990913\n",
       "290629      290629  ...  0.993199\n",
       "290649      290649  ...  0.992880\n",
       "\n",
       "[2655 rows x 6 columns]"
      ]
     },
     "execution_count": 18,
     "metadata": {
      "tags": []
     },
     "output_type": "execute_result"
    }
   ],
   "source": [
    "top[top['PredictedClass']=='school']"
   ]
  },
  {
   "cell_type": "code",
   "execution_count": null,
   "metadata": {
    "colab": {
     "base_uri": "https://localhost:8080/"
    },
    "id": "yabMIVl2c_AP",
    "outputId": "3480ee13-4e50-4f15-a043-f3212892779b"
   },
   "outputs": [
    {
     "data": {
      "text/plain": [
       "sports      25591\n",
       "events      23138\n",
       "work        19488\n",
       "business    13310\n",
       "politics     5397\n",
       "school       2655\n",
       "health       2344\n",
       "culture      2219\n",
       "covid         314\n",
       "Name: PredictedClass, dtype: int64"
      ]
     },
     "execution_count": 17,
     "metadata": {
      "tags": []
     },
     "output_type": "execute_result"
    }
   ],
   "source": [
    "top['PredictedClass'].value_counts()"
   ]
  },
  {
   "cell_type": "code",
   "execution_count": null,
   "metadata": {
    "id": "VeYrRYlHuk3Q"
   },
   "outputs": [],
   "source": [
    "df = pd.read_csv('/content/title_classes_df.csv',index_col=0)"
   ]
  },
  {
   "cell_type": "code",
   "execution_count": null,
   "metadata": {
    "colab": {
     "base_uri": "https://localhost:8080/"
    },
    "id": "kYqzoer2Yznu",
    "outputId": "20d71079-557f-4f5f-a131-9f58ac6cf0eb"
   },
   "outputs": [
    {
     "data": {
      "text/plain": [
       "negative    90737\n",
       "positive    81936\n",
       "Name: PredictedClass, dtype: int64"
      ]
     },
     "execution_count": 111,
     "metadata": {
      "tags": []
     },
     "output_type": "execute_result"
    }
   ],
   "source": [
    "df['PredictedClass'].value_counts()\n"
   ]
  },
  {
   "cell_type": "code",
   "execution_count": null,
   "metadata": {
    "colab": {
     "base_uri": "https://localhost:8080/",
     "height": 204
    },
    "id": "XU73PDcyY8yQ",
    "outputId": "5cee746c-ccb4-4873-8338-659ca8d2dc10"
   },
   "outputs": [
    {
     "data": {
      "text/html": [
       "<div>\n",
       "<style scoped>\n",
       "    .dataframe tbody tr th:only-of-type {\n",
       "        vertical-align: middle;\n",
       "    }\n",
       "\n",
       "    .dataframe tbody tr th {\n",
       "        vertical-align: top;\n",
       "    }\n",
       "\n",
       "    .dataframe thead th {\n",
       "        text-align: right;\n",
       "    }\n",
       "</style>\n",
       "<table border=\"1\" class=\"dataframe\">\n",
       "  <thead>\n",
       "    <tr style=\"text-align: right;\">\n",
       "      <th></th>\n",
       "      <th>Title</th>\n",
       "      <th>Scores</th>\n",
       "      <th>Classes</th>\n",
       "      <th>PredictedClass</th>\n",
       "      <th>TopScore</th>\n",
       "    </tr>\n",
       "  </thead>\n",
       "  <tbody>\n",
       "    <tr>\n",
       "      <th>28382</th>\n",
       "      <td>Jussie Smollett and his 'attacker' 'had a sexu...</td>\n",
       "      <td>[0.8213415741920471, 0.17865844070911407]</td>\n",
       "      <td>['negative', 'positive']</td>\n",
       "      <td>negative</td>\n",
       "      <td>0.821342</td>\n",
       "    </tr>\n",
       "    <tr>\n",
       "      <th>94946</th>\n",
       "      <td>Nike Air Flight 89 Dressed in the Chicago Flag...</td>\n",
       "      <td>[0.7324628829956055, 0.26753711700439453]</td>\n",
       "      <td>['positive', 'negative']</td>\n",
       "      <td>positive</td>\n",
       "      <td>0.732463</td>\n",
       "    </tr>\n",
       "    <tr>\n",
       "      <th>51084</th>\n",
       "      <td>“Illinois Nazis” Trending Topic Is More Than J...</td>\n",
       "      <td>[0.9454604387283325, 0.054539527744054794]</td>\n",
       "      <td>['negative', 'positive']</td>\n",
       "      <td>negative</td>\n",
       "      <td>0.945460</td>\n",
       "    </tr>\n",
       "    <tr>\n",
       "      <th>90856</th>\n",
       "      <td>Surprise! Not all Chicago parks are closed. (B...</td>\n",
       "      <td>[0.5898494124412537, 0.41015058755874634]</td>\n",
       "      <td>['negative', 'positive']</td>\n",
       "      <td>negative</td>\n",
       "      <td>0.589849</td>\n",
       "    </tr>\n",
       "    <tr>\n",
       "      <th>50306</th>\n",
       "      <td>Ricardo Rivera earns $98,400 working for the I...</td>\n",
       "      <td>[0.5971139669418335, 0.4028860032558441]</td>\n",
       "      <td>['positive', 'negative']</td>\n",
       "      <td>positive</td>\n",
       "      <td>0.597114</td>\n",
       "    </tr>\n",
       "  </tbody>\n",
       "</table>\n",
       "</div>"
      ],
      "text/plain": [
       "                                                   Title  ...  TopScore\n",
       "28382  Jussie Smollett and his 'attacker' 'had a sexu...  ...  0.821342\n",
       "94946  Nike Air Flight 89 Dressed in the Chicago Flag...  ...  0.732463\n",
       "51084  “Illinois Nazis” Trending Topic Is More Than J...  ...  0.945460\n",
       "90856  Surprise! Not all Chicago parks are closed. (B...  ...  0.589849\n",
       "50306  Ricardo Rivera earns $98,400 working for the I...  ...  0.597114\n",
       "\n",
       "[5 rows x 5 columns]"
      ]
     },
     "execution_count": 112,
     "metadata": {
      "tags": []
     },
     "output_type": "execute_result"
    }
   ],
   "source": [
    "df.sample(5)"
   ]
  },
  {
   "cell_type": "code",
   "execution_count": null,
   "metadata": {
    "colab": {
     "base_uri": "https://localhost:8080/"
    },
    "id": "I5cFyQYNZEQy",
    "outputId": "c0edc5c5-1ed8-4cd6-cff3-29f2619980d3"
   },
   "outputs": [
    {
     "data": {
      "text/plain": [
       "['EYE ON ILLINOIS: Don’t sleep on importance of Illinois Supreme Court races',\n",
       " '[0.6358052492141724, 0.36419475078582764]',\n",
       " \"['negative', 'positive']\",\n",
       " 'negative',\n",
       " 0.6358052492141724]"
      ]
     },
     "execution_count": 113,
     "metadata": {
      "tags": []
     },
     "output_type": "execute_result"
    }
   ],
   "source": [
    "list(df.loc[122740])"
   ]
  },
  {
   "cell_type": "code",
   "execution_count": null,
   "metadata": {
    "colab": {
     "base_uri": "https://localhost:8080/",
     "height": 419
    },
    "id": "AnxGZZY-auZU",
    "outputId": "00ab9a14-267d-490d-84ea-c00cfb34f4ac"
   },
   "outputs": [
    {
     "data": {
      "text/html": [
       "<div>\n",
       "<style scoped>\n",
       "    .dataframe tbody tr th:only-of-type {\n",
       "        vertical-align: middle;\n",
       "    }\n",
       "\n",
       "    .dataframe tbody tr th {\n",
       "        vertical-align: top;\n",
       "    }\n",
       "\n",
       "    .dataframe thead th {\n",
       "        text-align: right;\n",
       "    }\n",
       "</style>\n",
       "<table border=\"1\" class=\"dataframe\">\n",
       "  <thead>\n",
       "    <tr style=\"text-align: right;\">\n",
       "      <th></th>\n",
       "      <th>Title</th>\n",
       "      <th>Scores</th>\n",
       "      <th>Classes</th>\n",
       "      <th>PredictedClass</th>\n",
       "      <th>TopScore</th>\n",
       "    </tr>\n",
       "  </thead>\n",
       "  <tbody>\n",
       "    <tr>\n",
       "      <th>0</th>\n",
       "      <td>The Illinois Department of Public Health Annou...</td>\n",
       "      <td>[0.932061493396759, 0.06793850660324097]</td>\n",
       "      <td>['negative', 'positive']</td>\n",
       "      <td>negative</td>\n",
       "      <td>0.932061</td>\n",
       "    </tr>\n",
       "    <tr>\n",
       "      <th>4</th>\n",
       "      <td>Developer behind botched Chicago demolition fa...</td>\n",
       "      <td>[0.9682002663612366, 0.031799715012311935]</td>\n",
       "      <td>['negative', 'positive']</td>\n",
       "      <td>negative</td>\n",
       "      <td>0.968200</td>\n",
       "    </tr>\n",
       "    <tr>\n",
       "      <th>7</th>\n",
       "      <td>Southern Illinois counties deal with funding s...</td>\n",
       "      <td>[0.9539268612861633, 0.04607318341732025]</td>\n",
       "      <td>['negative', 'positive']</td>\n",
       "      <td>negative</td>\n",
       "      <td>0.953927</td>\n",
       "    </tr>\n",
       "    <tr>\n",
       "      <th>8</th>\n",
       "      <td>bankruptcy auction Chilicoti Illinois United S...</td>\n",
       "      <td>[0.9123339056968689, 0.0876661166548729]</td>\n",
       "      <td>['negative', 'positive']</td>\n",
       "      <td>negative</td>\n",
       "      <td>0.912334</td>\n",
       "    </tr>\n",
       "    <tr>\n",
       "      <th>11</th>\n",
       "      <td>bankruptcy real estate Oak Park Illinois Unite...</td>\n",
       "      <td>[0.9900885224342346, 0.009911508299410343]</td>\n",
       "      <td>['negative', 'positive']</td>\n",
       "      <td>negative</td>\n",
       "      <td>0.990089</td>\n",
       "    </tr>\n",
       "    <tr>\n",
       "      <th>...</th>\n",
       "      <td>...</td>\n",
       "      <td>...</td>\n",
       "      <td>...</td>\n",
       "      <td>...</td>\n",
       "      <td>...</td>\n",
       "    </tr>\n",
       "    <tr>\n",
       "      <th>172658</th>\n",
       "      <td>Chicago convenience store ransacked twice sinc...</td>\n",
       "      <td>[0.9299383759498596, 0.07006166875362396]</td>\n",
       "      <td>['negative', 'positive']</td>\n",
       "      <td>negative</td>\n",
       "      <td>0.929938</td>\n",
       "    </tr>\n",
       "    <tr>\n",
       "      <th>172659</th>\n",
       "      <td>As Chicago Nears Panic, Lightfoot’s Partisan B...</td>\n",
       "      <td>[0.9953692555427551, 0.004630750045180321]</td>\n",
       "      <td>['negative', 'positive']</td>\n",
       "      <td>negative</td>\n",
       "      <td>0.995369</td>\n",
       "    </tr>\n",
       "    <tr>\n",
       "      <th>172664</th>\n",
       "      <td>Longtime Illinois state senator hit with feder...</td>\n",
       "      <td>[0.9149653315544128, 0.08503469079732895]</td>\n",
       "      <td>['negative', 'positive']</td>\n",
       "      <td>negative</td>\n",
       "      <td>0.914965</td>\n",
       "    </tr>\n",
       "    <tr>\n",
       "      <th>172668</th>\n",
       "      <td>Illinois governor says if you go to Missouri ‘...</td>\n",
       "      <td>[0.9751619100570679, 0.02483810856938362]</td>\n",
       "      <td>['negative', 'positive']</td>\n",
       "      <td>negative</td>\n",
       "      <td>0.975162</td>\n",
       "    </tr>\n",
       "    <tr>\n",
       "      <th>172670</th>\n",
       "      <td>Chicago Looting: Not less than 42 charged with...</td>\n",
       "      <td>[0.9412060976028442, 0.058793891221284866]</td>\n",
       "      <td>['negative', 'positive']</td>\n",
       "      <td>negative</td>\n",
       "      <td>0.941206</td>\n",
       "    </tr>\n",
       "  </tbody>\n",
       "</table>\n",
       "<p>44011 rows × 5 columns</p>\n",
       "</div>"
      ],
      "text/plain": [
       "                                                    Title  ...  TopScore\n",
       "0       The Illinois Department of Public Health Annou...  ...  0.932061\n",
       "4       Developer behind botched Chicago demolition fa...  ...  0.968200\n",
       "7       Southern Illinois counties deal with funding s...  ...  0.953927\n",
       "8       bankruptcy auction Chilicoti Illinois United S...  ...  0.912334\n",
       "11      bankruptcy real estate Oak Park Illinois Unite...  ...  0.990089\n",
       "...                                                   ...  ...       ...\n",
       "172658  Chicago convenience store ransacked twice sinc...  ...  0.929938\n",
       "172659  As Chicago Nears Panic, Lightfoot’s Partisan B...  ...  0.995369\n",
       "172664  Longtime Illinois state senator hit with feder...  ...  0.914965\n",
       "172668  Illinois governor says if you go to Missouri ‘...  ...  0.975162\n",
       "172670  Chicago Looting: Not less than 42 charged with...  ...  0.941206\n",
       "\n",
       "[44011 rows x 5 columns]"
      ]
     },
     "execution_count": 114,
     "metadata": {
      "tags": []
     },
     "output_type": "execute_result"
    }
   ],
   "source": [
    "df[df['TopScore'] > .9]"
   ]
  },
  {
   "cell_type": "code",
   "execution_count": null,
   "metadata": {
    "id": "Xk223QaOblZL"
   },
   "outputs": [],
   "source": []
  },
  {
   "cell_type": "code",
   "execution_count": null,
   "metadata": {
    "id": "sI5Fp_2BbZz-"
   },
   "outputs": [],
   "source": []
  }
 ],
 "metadata": {
  "accelerator": "GPU",
  "colab": {
   "collapsed_sections": [],
   "name": "NLP_Final_Project_ZeroShot.ipynb",
   "provenance": []
  },
  "kernelspec": {
   "display_name": "Python 3",
   "language": "python",
   "name": "python3"
  },
  "language_info": {
   "codemirror_mode": {
    "name": "ipython",
    "version": 3
   },
   "file_extension": ".py",
   "mimetype": "text/x-python",
   "name": "python",
   "nbconvert_exporter": "python",
   "pygments_lexer": "ipython3",
   "version": "3.8.5"
  }
 },
 "nbformat": 4,
 "nbformat_minor": 1
}
